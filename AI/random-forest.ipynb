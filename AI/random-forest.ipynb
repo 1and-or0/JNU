{
 "cells": [
  {
   "cell_type": "code",
   "execution_count": 1,
   "id": "26b88aed",
   "metadata": {
    "_cell_guid": "b1076dfc-b9ad-4769-8c92-a6c4dae69d19",
    "_uuid": "8f2839f25d086af736a60e9eeb907d3b93b6e0e5",
    "execution": {
     "iopub.execute_input": "2025-05-03T12:18:58.061576Z",
     "iopub.status.busy": "2025-05-03T12:18:58.061258Z",
     "iopub.status.idle": "2025-05-03T12:18:59.995857Z",
     "shell.execute_reply": "2025-05-03T12:18:59.994802Z"
    },
    "papermill": {
     "duration": 1.941726,
     "end_time": "2025-05-03T12:18:59.997905",
     "exception": false,
     "start_time": "2025-05-03T12:18:58.056179",
     "status": "completed"
    },
    "tags": []
   },
   "outputs": [
    {
     "name": "stdout",
     "output_type": "stream",
     "text": [
      "/kaggle/input/heart-failure-prediction/heart.csv\n"
     ]
    }
   ],
   "source": [
    "# This Python 3 environment comes with many helpful analytics libraries installed\n",
    "# It is defined by the kaggle/python Docker image: https://github.com/kaggle/docker-python\n",
    "# For example, here's several helpful packages to load\n",
    "\n",
    "import numpy as np # linear algebra\n",
    "import pandas as pd # data processing, CSV file I/O (e.g. pd.read_csv)\n",
    "\n",
    "# Input data files are available in the read-only \"../input/\" directory\n",
    "# For example, running this (by clicking run or pressing Shift+Enter) will list all files under the input directory\n",
    "\n",
    "import os\n",
    "for dirname, _, filenames in os.walk('/kaggle/input'):\n",
    "    for filename in filenames:\n",
    "        print(os.path.join(dirname, filename))\n",
    "\n",
    "# You can write up to 20GB to the current directory (/kaggle/working/) that gets preserved as output when you create a version using \"Save & Run All\" \n",
    "# You can also write temporary files to /kaggle/temp/, but they won't be saved outside of the current session"
   ]
  },
  {
   "cell_type": "code",
   "execution_count": 2,
   "id": "26499523",
   "metadata": {
    "execution": {
     "iopub.execute_input": "2025-05-03T12:19:00.007729Z",
     "iopub.status.busy": "2025-05-03T12:19:00.007298Z",
     "iopub.status.idle": "2025-05-03T12:19:02.840214Z",
     "shell.execute_reply": "2025-05-03T12:19:02.839178Z"
    },
    "papermill": {
     "duration": 2.839238,
     "end_time": "2025-05-03T12:19:02.841841",
     "exception": false,
     "start_time": "2025-05-03T12:19:00.002603",
     "status": "completed"
    },
    "tags": []
   },
   "outputs": [],
   "source": [
    "from sklearn.model_selection import train_test_split\n",
    "from sklearn.ensemble import RandomForestClassifier\n",
    "import matplotlib.pyplot as plt\n",
    "from sklearn.metrics import classification_report, roc_auc_score, precision_recall_curve, auc\n",
    "from sklearn.metrics import accuracy_score, precision_score,recall_score,f1_score, roc_curve, precision_recall_curve, auc, f1_score, confusion_matrix\n",
    "import seaborn as sns"
   ]
  },
  {
   "cell_type": "code",
   "execution_count": 3,
   "id": "35505797",
   "metadata": {
    "execution": {
     "iopub.execute_input": "2025-05-03T12:19:02.850330Z",
     "iopub.status.busy": "2025-05-03T12:19:02.849366Z",
     "iopub.status.idle": "2025-05-03T12:19:02.899650Z",
     "shell.execute_reply": "2025-05-03T12:19:02.898454Z"
    },
    "papermill": {
     "duration": 0.056052,
     "end_time": "2025-05-03T12:19:02.901237",
     "exception": false,
     "start_time": "2025-05-03T12:19:02.845185",
     "status": "completed"
    },
    "tags": []
   },
   "outputs": [
    {
     "name": "stdout",
     "output_type": "stream",
     "text": [
      "<class 'pandas.core.frame.DataFrame'>\n",
      "RangeIndex: 918 entries, 0 to 917\n",
      "Data columns (total 12 columns):\n",
      " #   Column          Non-Null Count  Dtype  \n",
      "---  ------          --------------  -----  \n",
      " 0   Age             918 non-null    int64  \n",
      " 1   Sex             918 non-null    object \n",
      " 2   ChestPainType   918 non-null    object \n",
      " 3   RestingBP       918 non-null    int64  \n",
      " 4   Cholesterol     918 non-null    int64  \n",
      " 5   FastingBS       918 non-null    int64  \n",
      " 6   RestingECG      918 non-null    object \n",
      " 7   MaxHR           918 non-null    int64  \n",
      " 8   ExerciseAngina  918 non-null    object \n",
      " 9   Oldpeak         918 non-null    float64\n",
      " 10  ST_Slope        918 non-null    object \n",
      " 11  HeartDisease    918 non-null    int64  \n",
      "dtypes: float64(1), int64(6), object(5)\n",
      "memory usage: 86.2+ KB\n"
     ]
    }
   ],
   "source": [
    "data = pd.read_csv(\"/kaggle/input/heart-failure-prediction/heart.csv\")\n",
    "data.head()\n",
    "data.info()"
   ]
  },
  {
   "cell_type": "code",
   "execution_count": 4,
   "id": "9f4945af",
   "metadata": {
    "execution": {
     "iopub.execute_input": "2025-05-03T12:19:02.909465Z",
     "iopub.status.busy": "2025-05-03T12:19:02.909125Z",
     "iopub.status.idle": "2025-05-03T12:19:02.916312Z",
     "shell.execute_reply": "2025-05-03T12:19:02.915298Z"
    },
    "papermill": {
     "duration": 0.013025,
     "end_time": "2025-05-03T12:19:02.917720",
     "exception": false,
     "start_time": "2025-05-03T12:19:02.904695",
     "status": "completed"
    },
    "tags": []
   },
   "outputs": [
    {
     "name": "stdout",
     "output_type": "stream",
     "text": [
      "각 열별 결측치 개수:\n",
      " Age               0\n",
      "Sex               0\n",
      "ChestPainType     0\n",
      "RestingBP         0\n",
      "Cholesterol       0\n",
      "FastingBS         0\n",
      "RestingECG        0\n",
      "MaxHR             0\n",
      "ExerciseAngina    0\n",
      "Oldpeak           0\n",
      "ST_Slope          0\n",
      "HeartDisease      0\n",
      "dtype: int64\n"
     ]
    }
   ],
   "source": [
    "# 각 열별 결측치 개수 확인\n",
    "null_counts_by_column = data.isnull().sum()\n",
    "print(\"각 열별 결측치 개수:\\n\", null_counts_by_column)"
   ]
  },
  {
   "cell_type": "code",
   "execution_count": 5,
   "id": "ec1fda3a",
   "metadata": {
    "execution": {
     "iopub.execute_input": "2025-05-03T12:19:02.926093Z",
     "iopub.status.busy": "2025-05-03T12:19:02.925681Z",
     "iopub.status.idle": "2025-05-03T12:19:02.953360Z",
     "shell.execute_reply": "2025-05-03T12:19:02.952117Z"
    },
    "papermill": {
     "duration": 0.033478,
     "end_time": "2025-05-03T12:19:02.954906",
     "exception": false,
     "start_time": "2025-05-03T12:19:02.921428",
     "status": "completed"
    },
    "tags": []
   },
   "outputs": [
    {
     "name": "stdout",
     "output_type": "stream",
     "text": [
      "<class 'pandas.core.frame.DataFrame'>\n",
      "RangeIndex: 918 entries, 0 to 917\n",
      "Data columns (total 19 columns):\n",
      " #   Column             Non-Null Count  Dtype  \n",
      "---  ------             --------------  -----  \n",
      " 0   Age                918 non-null    int64  \n",
      " 1   Sex                918 non-null    object \n",
      " 2   RestingBP          918 non-null    int64  \n",
      " 3   Cholesterol        918 non-null    int64  \n",
      " 4   FastingBS          918 non-null    int64  \n",
      " 5   MaxHR              918 non-null    int64  \n",
      " 6   ExerciseAngina     918 non-null    object \n",
      " 7   Oldpeak            918 non-null    float64\n",
      " 8   HeartDisease       918 non-null    int64  \n",
      " 9   ChestPainType_ASY  918 non-null    bool   \n",
      " 10  ChestPainType_ATA  918 non-null    bool   \n",
      " 11  ChestPainType_NAP  918 non-null    bool   \n",
      " 12  ChestPainType_TA   918 non-null    bool   \n",
      " 13  RestingECG_LVH     918 non-null    bool   \n",
      " 14  RestingECG_Normal  918 non-null    bool   \n",
      " 15  RestingECG_ST      918 non-null    bool   \n",
      " 16  ST_Slope_Down      918 non-null    bool   \n",
      " 17  ST_Slope_Flat      918 non-null    bool   \n",
      " 18  ST_Slope_Up        918 non-null    bool   \n",
      "dtypes: bool(10), float64(1), int64(6), object(2)\n",
      "memory usage: 73.6+ KB\n"
     ]
    }
   ],
   "source": [
    "# 전처리 다중 범주형 \n",
    "df = pd.get_dummies(data, columns=[\"ChestPainType\"])\n",
    "df = pd.get_dummies(df, columns=[\"RestingECG\"])\n",
    "df = pd.get_dummies(df, columns=[\"ST_Slope\"])\n",
    "# df.head()\n",
    "df.info()"
   ]
  },
  {
   "cell_type": "code",
   "execution_count": 6,
   "id": "e1c12d4b",
   "metadata": {
    "execution": {
     "iopub.execute_input": "2025-05-03T12:19:02.964421Z",
     "iopub.status.busy": "2025-05-03T12:19:02.964096Z",
     "iopub.status.idle": "2025-05-03T12:19:02.974152Z",
     "shell.execute_reply": "2025-05-03T12:19:02.973155Z"
    },
    "papermill": {
     "duration": 0.017176,
     "end_time": "2025-05-03T12:19:02.975596",
     "exception": false,
     "start_time": "2025-05-03T12:19:02.958420",
     "status": "completed"
    },
    "tags": []
   },
   "outputs": [
    {
     "data": {
      "text/plain": [
       "918"
      ]
     },
     "execution_count": 6,
     "metadata": {},
     "output_type": "execute_result"
    }
   ],
   "source": [
    "# 전처리 - 이진\n",
    "map_Sex = { \"M\": 0, \"F\": 1 }\n",
    "map_ExerciseAngina = { \"N\": 0, \"Y\": 1 }\n",
    "\n",
    "df[\"Sex\"] = df[\"Sex\"].map(map_Sex)\n",
    "df[\"ExerciseAngina\"] = df[\"ExerciseAngina\"].map(map_ExerciseAngina)\n",
    "df.head()\n",
    "# df.info()\n",
    "len(df)"
   ]
  },
  {
   "cell_type": "code",
   "execution_count": 7,
   "id": "07d2a1d2",
   "metadata": {
    "execution": {
     "iopub.execute_input": "2025-05-03T12:19:02.984286Z",
     "iopub.status.busy": "2025-05-03T12:19:02.983713Z",
     "iopub.status.idle": "2025-05-03T12:19:03.011027Z",
     "shell.execute_reply": "2025-05-03T12:19:03.010134Z"
    },
    "papermill": {
     "duration": 0.033211,
     "end_time": "2025-05-03T12:19:03.012535",
     "exception": false,
     "start_time": "2025-05-03T12:19:02.979324",
     "status": "completed"
    },
    "tags": []
   },
   "outputs": [
    {
     "data": {
      "text/html": [
       "<div>\n",
       "<style scoped>\n",
       "    .dataframe tbody tr th:only-of-type {\n",
       "        vertical-align: middle;\n",
       "    }\n",
       "\n",
       "    .dataframe tbody tr th {\n",
       "        vertical-align: top;\n",
       "    }\n",
       "\n",
       "    .dataframe thead th {\n",
       "        text-align: right;\n",
       "    }\n",
       "</style>\n",
       "<table border=\"1\" class=\"dataframe\">\n",
       "  <thead>\n",
       "    <tr style=\"text-align: right;\">\n",
       "      <th></th>\n",
       "      <th>Age</th>\n",
       "      <th>Sex</th>\n",
       "      <th>RestingBP</th>\n",
       "      <th>Cholesterol</th>\n",
       "      <th>FastingBS</th>\n",
       "      <th>MaxHR</th>\n",
       "      <th>ExerciseAngina</th>\n",
       "      <th>Oldpeak</th>\n",
       "      <th>ChestPainType_ASY</th>\n",
       "      <th>ChestPainType_ATA</th>\n",
       "      <th>ChestPainType_NAP</th>\n",
       "      <th>ChestPainType_TA</th>\n",
       "      <th>RestingECG_LVH</th>\n",
       "      <th>RestingECG_Normal</th>\n",
       "      <th>RestingECG_ST</th>\n",
       "      <th>ST_Slope_Down</th>\n",
       "      <th>ST_Slope_Flat</th>\n",
       "      <th>ST_Slope_Up</th>\n",
       "    </tr>\n",
       "  </thead>\n",
       "  <tbody>\n",
       "    <tr>\n",
       "      <th>0</th>\n",
       "      <td>40</td>\n",
       "      <td>0</td>\n",
       "      <td>140</td>\n",
       "      <td>289</td>\n",
       "      <td>0</td>\n",
       "      <td>172</td>\n",
       "      <td>0</td>\n",
       "      <td>0.0</td>\n",
       "      <td>False</td>\n",
       "      <td>True</td>\n",
       "      <td>False</td>\n",
       "      <td>False</td>\n",
       "      <td>False</td>\n",
       "      <td>True</td>\n",
       "      <td>False</td>\n",
       "      <td>False</td>\n",
       "      <td>False</td>\n",
       "      <td>True</td>\n",
       "    </tr>\n",
       "    <tr>\n",
       "      <th>1</th>\n",
       "      <td>49</td>\n",
       "      <td>1</td>\n",
       "      <td>160</td>\n",
       "      <td>180</td>\n",
       "      <td>0</td>\n",
       "      <td>156</td>\n",
       "      <td>0</td>\n",
       "      <td>1.0</td>\n",
       "      <td>False</td>\n",
       "      <td>False</td>\n",
       "      <td>True</td>\n",
       "      <td>False</td>\n",
       "      <td>False</td>\n",
       "      <td>True</td>\n",
       "      <td>False</td>\n",
       "      <td>False</td>\n",
       "      <td>True</td>\n",
       "      <td>False</td>\n",
       "    </tr>\n",
       "    <tr>\n",
       "      <th>2</th>\n",
       "      <td>37</td>\n",
       "      <td>0</td>\n",
       "      <td>130</td>\n",
       "      <td>283</td>\n",
       "      <td>0</td>\n",
       "      <td>98</td>\n",
       "      <td>0</td>\n",
       "      <td>0.0</td>\n",
       "      <td>False</td>\n",
       "      <td>True</td>\n",
       "      <td>False</td>\n",
       "      <td>False</td>\n",
       "      <td>False</td>\n",
       "      <td>False</td>\n",
       "      <td>True</td>\n",
       "      <td>False</td>\n",
       "      <td>False</td>\n",
       "      <td>True</td>\n",
       "    </tr>\n",
       "    <tr>\n",
       "      <th>3</th>\n",
       "      <td>48</td>\n",
       "      <td>1</td>\n",
       "      <td>138</td>\n",
       "      <td>214</td>\n",
       "      <td>0</td>\n",
       "      <td>108</td>\n",
       "      <td>1</td>\n",
       "      <td>1.5</td>\n",
       "      <td>True</td>\n",
       "      <td>False</td>\n",
       "      <td>False</td>\n",
       "      <td>False</td>\n",
       "      <td>False</td>\n",
       "      <td>True</td>\n",
       "      <td>False</td>\n",
       "      <td>False</td>\n",
       "      <td>True</td>\n",
       "      <td>False</td>\n",
       "    </tr>\n",
       "    <tr>\n",
       "      <th>4</th>\n",
       "      <td>54</td>\n",
       "      <td>0</td>\n",
       "      <td>150</td>\n",
       "      <td>195</td>\n",
       "      <td>0</td>\n",
       "      <td>122</td>\n",
       "      <td>0</td>\n",
       "      <td>0.0</td>\n",
       "      <td>False</td>\n",
       "      <td>False</td>\n",
       "      <td>True</td>\n",
       "      <td>False</td>\n",
       "      <td>False</td>\n",
       "      <td>True</td>\n",
       "      <td>False</td>\n",
       "      <td>False</td>\n",
       "      <td>False</td>\n",
       "      <td>True</td>\n",
       "    </tr>\n",
       "  </tbody>\n",
       "</table>\n",
       "</div>"
      ],
      "text/plain": [
       "   Age  Sex  RestingBP  Cholesterol  FastingBS  MaxHR  ExerciseAngina  \\\n",
       "0   40    0        140          289          0    172               0   \n",
       "1   49    1        160          180          0    156               0   \n",
       "2   37    0        130          283          0     98               0   \n",
       "3   48    1        138          214          0    108               1   \n",
       "4   54    0        150          195          0    122               0   \n",
       "\n",
       "   Oldpeak  ChestPainType_ASY  ChestPainType_ATA  ChestPainType_NAP  \\\n",
       "0      0.0              False               True              False   \n",
       "1      1.0              False              False               True   \n",
       "2      0.0              False               True              False   \n",
       "3      1.5               True              False              False   \n",
       "4      0.0              False              False               True   \n",
       "\n",
       "   ChestPainType_TA  RestingECG_LVH  RestingECG_Normal  RestingECG_ST  \\\n",
       "0             False           False               True          False   \n",
       "1             False           False               True          False   \n",
       "2             False           False              False           True   \n",
       "3             False           False               True          False   \n",
       "4             False           False               True          False   \n",
       "\n",
       "   ST_Slope_Down  ST_Slope_Flat  ST_Slope_Up  \n",
       "0          False          False         True  \n",
       "1          False           True        False  \n",
       "2          False          False         True  \n",
       "3          False           True        False  \n",
       "4          False          False         True  "
      ]
     },
     "execution_count": 7,
     "metadata": {},
     "output_type": "execute_result"
    }
   ],
   "source": [
    "# 타겟 분리\n",
    "X = df.drop(columns=['HeartDisease'], axis=1)\n",
    "y = df['HeartDisease']\n",
    "# y\n",
    "X.head()\n",
    "# X.info()\n",
    "# y.info()"
   ]
  },
  {
   "cell_type": "code",
   "execution_count": 8,
   "id": "de361d78",
   "metadata": {
    "execution": {
     "iopub.execute_input": "2025-05-03T12:19:03.021860Z",
     "iopub.status.busy": "2025-05-03T12:19:03.021549Z",
     "iopub.status.idle": "2025-05-03T12:19:03.033740Z",
     "shell.execute_reply": "2025-05-03T12:19:03.032923Z"
    },
    "papermill": {
     "duration": 0.019037,
     "end_time": "2025-05-03T12:19:03.035576",
     "exception": false,
     "start_time": "2025-05-03T12:19:03.016539",
     "status": "completed"
    },
    "tags": []
   },
   "outputs": [],
   "source": [
    "# 2. 학습/테스트 분리\n",
    "X_train, X_test, y_train, y_test = train_test_split(X, y, test_size=0.3, stratify=y, random_state=42)"
   ]
  },
  {
   "cell_type": "code",
   "execution_count": 9,
   "id": "9190ce84",
   "metadata": {
    "execution": {
     "iopub.execute_input": "2025-05-03T12:19:03.044574Z",
     "iopub.status.busy": "2025-05-03T12:19:03.044243Z",
     "iopub.status.idle": "2025-05-03T12:19:03.239322Z",
     "shell.execute_reply": "2025-05-03T12:19:03.238508Z"
    },
    "papermill": {
     "duration": 0.201549,
     "end_time": "2025-05-03T12:19:03.241082",
     "exception": false,
     "start_time": "2025-05-03T12:19:03.039533",
     "status": "completed"
    },
    "tags": []
   },
   "outputs": [
    {
     "data": {
      "text/html": [
       "<style>#sk-container-id-1 {color: black;background-color: white;}#sk-container-id-1 pre{padding: 0;}#sk-container-id-1 div.sk-toggleable {background-color: white;}#sk-container-id-1 label.sk-toggleable__label {cursor: pointer;display: block;width: 100%;margin-bottom: 0;padding: 0.3em;box-sizing: border-box;text-align: center;}#sk-container-id-1 label.sk-toggleable__label-arrow:before {content: \"▸\";float: left;margin-right: 0.25em;color: #696969;}#sk-container-id-1 label.sk-toggleable__label-arrow:hover:before {color: black;}#sk-container-id-1 div.sk-estimator:hover label.sk-toggleable__label-arrow:before {color: black;}#sk-container-id-1 div.sk-toggleable__content {max-height: 0;max-width: 0;overflow: hidden;text-align: left;background-color: #f0f8ff;}#sk-container-id-1 div.sk-toggleable__content pre {margin: 0.2em;color: black;border-radius: 0.25em;background-color: #f0f8ff;}#sk-container-id-1 input.sk-toggleable__control:checked~div.sk-toggleable__content {max-height: 200px;max-width: 100%;overflow: auto;}#sk-container-id-1 input.sk-toggleable__control:checked~label.sk-toggleable__label-arrow:before {content: \"▾\";}#sk-container-id-1 div.sk-estimator input.sk-toggleable__control:checked~label.sk-toggleable__label {background-color: #d4ebff;}#sk-container-id-1 div.sk-label input.sk-toggleable__control:checked~label.sk-toggleable__label {background-color: #d4ebff;}#sk-container-id-1 input.sk-hidden--visually {border: 0;clip: rect(1px 1px 1px 1px);clip: rect(1px, 1px, 1px, 1px);height: 1px;margin: -1px;overflow: hidden;padding: 0;position: absolute;width: 1px;}#sk-container-id-1 div.sk-estimator {font-family: monospace;background-color: #f0f8ff;border: 1px dotted black;border-radius: 0.25em;box-sizing: border-box;margin-bottom: 0.5em;}#sk-container-id-1 div.sk-estimator:hover {background-color: #d4ebff;}#sk-container-id-1 div.sk-parallel-item::after {content: \"\";width: 100%;border-bottom: 1px solid gray;flex-grow: 1;}#sk-container-id-1 div.sk-label:hover label.sk-toggleable__label {background-color: #d4ebff;}#sk-container-id-1 div.sk-serial::before {content: \"\";position: absolute;border-left: 1px solid gray;box-sizing: border-box;top: 0;bottom: 0;left: 50%;z-index: 0;}#sk-container-id-1 div.sk-serial {display: flex;flex-direction: column;align-items: center;background-color: white;padding-right: 0.2em;padding-left: 0.2em;position: relative;}#sk-container-id-1 div.sk-item {position: relative;z-index: 1;}#sk-container-id-1 div.sk-parallel {display: flex;align-items: stretch;justify-content: center;background-color: white;position: relative;}#sk-container-id-1 div.sk-item::before, #sk-container-id-1 div.sk-parallel-item::before {content: \"\";position: absolute;border-left: 1px solid gray;box-sizing: border-box;top: 0;bottom: 0;left: 50%;z-index: -1;}#sk-container-id-1 div.sk-parallel-item {display: flex;flex-direction: column;z-index: 1;position: relative;background-color: white;}#sk-container-id-1 div.sk-parallel-item:first-child::after {align-self: flex-end;width: 50%;}#sk-container-id-1 div.sk-parallel-item:last-child::after {align-self: flex-start;width: 50%;}#sk-container-id-1 div.sk-parallel-item:only-child::after {width: 0;}#sk-container-id-1 div.sk-dashed-wrapped {border: 1px dashed gray;margin: 0 0.4em 0.5em 0.4em;box-sizing: border-box;padding-bottom: 0.4em;background-color: white;}#sk-container-id-1 div.sk-label label {font-family: monospace;font-weight: bold;display: inline-block;line-height: 1.2em;}#sk-container-id-1 div.sk-label-container {text-align: center;}#sk-container-id-1 div.sk-container {/* jupyter's `normalize.less` sets `[hidden] { display: none; }` but bootstrap.min.css set `[hidden] { display: none !important; }` so we also need the `!important` here to be able to override the default hidden behavior on the sphinx rendered scikit-learn.org. See: https://github.com/scikit-learn/scikit-learn/issues/21755 */display: inline-block !important;position: relative;}#sk-container-id-1 div.sk-text-repr-fallback {display: none;}</style><div id=\"sk-container-id-1\" class=\"sk-top-container\"><div class=\"sk-text-repr-fallback\"><pre>RandomForestClassifier(random_state=42)</pre><b>In a Jupyter environment, please rerun this cell to show the HTML representation or trust the notebook. <br />On GitHub, the HTML representation is unable to render, please try loading this page with nbviewer.org.</b></div><div class=\"sk-container\" hidden><div class=\"sk-item\"><div class=\"sk-estimator sk-toggleable\"><input class=\"sk-toggleable__control sk-hidden--visually\" id=\"sk-estimator-id-1\" type=\"checkbox\" checked><label for=\"sk-estimator-id-1\" class=\"sk-toggleable__label sk-toggleable__label-arrow\">RandomForestClassifier</label><div class=\"sk-toggleable__content\"><pre>RandomForestClassifier(random_state=42)</pre></div></div></div></div></div>"
      ],
      "text/plain": [
       "RandomForestClassifier(random_state=42)"
      ]
     },
     "execution_count": 9,
     "metadata": {},
     "output_type": "execute_result"
    }
   ],
   "source": [
    "# 3. 모델 정의 및 학습\n",
    "model = RandomForestClassifier(n_estimators=100, random_state=42)\n",
    "model.fit(X_train, y_train)"
   ]
  },
  {
   "cell_type": "code",
   "execution_count": 10,
   "id": "0bb1b85a",
   "metadata": {
    "execution": {
     "iopub.execute_input": "2025-05-03T12:19:03.250727Z",
     "iopub.status.busy": "2025-05-03T12:19:03.250432Z",
     "iopub.status.idle": "2025-05-03T12:19:03.264726Z",
     "shell.execute_reply": "2025-05-03T12:19:03.263651Z"
    },
    "papermill": {
     "duration": 0.021043,
     "end_time": "2025-05-03T12:19:03.266322",
     "exception": false,
     "start_time": "2025-05-03T12:19:03.245279",
     "status": "completed"
    },
    "tags": []
   },
   "outputs": [
    {
     "name": "stdout",
     "output_type": "stream",
     "text": [
      "              Feature  Importance\n",
      "17        ST_Slope_Up    0.188738\n",
      "5               MaxHR    0.103978\n",
      "7             Oldpeak    0.098464\n",
      "8   ChestPainType_ASY    0.097334\n",
      "3         Cholesterol    0.096410\n",
      "0                 Age    0.077428\n",
      "16      ST_Slope_Flat    0.075442\n",
      "2           RestingBP    0.067999\n",
      "6      ExerciseAngina    0.063625\n",
      "1                 Sex    0.031637\n",
      "4           FastingBS    0.024655\n",
      "10  ChestPainType_NAP    0.017264\n",
      "12     RestingECG_LVH    0.013598\n",
      "9   ChestPainType_ATA    0.012451\n",
      "13  RestingECG_Normal    0.010297\n",
      "14      RestingECG_ST    0.010192\n",
      "15      ST_Slope_Down    0.005456\n",
      "11   ChestPainType_TA    0.005032\n"
     ]
    }
   ],
   "source": [
    "# 중요도 추출\n",
    "importances = model.feature_importances_\n",
    "# X_train.columns와 함께 정리\n",
    "feature_importance_df = pd.DataFrame({\n",
    "    'Feature': X_train.columns,\n",
    "    'Importance': importances\n",
    "}).sort_values(by='Importance', ascending=False)\n",
    "\n",
    "print(feature_importance_df)"
   ]
  },
  {
   "cell_type": "code",
   "execution_count": 11,
   "id": "829d3c05",
   "metadata": {
    "execution": {
     "iopub.execute_input": "2025-05-03T12:19:03.275431Z",
     "iopub.status.busy": "2025-05-03T12:19:03.275122Z",
     "iopub.status.idle": "2025-05-03T12:19:03.705063Z",
     "shell.execute_reply": "2025-05-03T12:19:03.704146Z"
    },
    "papermill": {
     "duration": 0.436568,
     "end_time": "2025-05-03T12:19:03.706933",
     "exception": false,
     "start_time": "2025-05-03T12:19:03.270365",
     "status": "completed"
    },
    "tags": []
   },
   "outputs": [
    {
     "data": {
      "image/png": "[encoded data removed]",
      "text/plain": [
       "<Figure size 1000x600 with 1 Axes>"
      ]
     },
     "metadata": {},
     "output_type": "display_data"
    }
   ],
   "source": [
    "plt.figure(figsize=(10, 6))\n",
    "sns.barplot(x='Importance', y='Feature', data=feature_importance_df)\n",
    "plt.title(\"Random Forest Feature Importances\")\n",
    "plt.tight_layout()\n",
    "plt.show()"
   ]
  },
  {
   "cell_type": "code",
   "execution_count": 12,
   "id": "7d85e06c",
   "metadata": {
    "execution": {
     "iopub.execute_input": "2025-05-03T12:19:03.719104Z",
     "iopub.status.busy": "2025-05-03T12:19:03.718723Z",
     "iopub.status.idle": "2025-05-03T12:19:03.745638Z",
     "shell.execute_reply": "2025-05-03T12:19:03.744659Z"
    },
    "papermill": {
     "duration": 0.034929,
     "end_time": "2025-05-03T12:19:03.747271",
     "exception": false,
     "start_time": "2025-05-03T12:19:03.712342",
     "status": "completed"
    },
    "tags": []
   },
   "outputs": [],
   "source": [
    "# 4. 예측 및 평가\n",
    "y_pred = model.predict(X_test)\n",
    "y_proba = model.predict_proba(X_test)[:, 1]"
   ]
  },
  {
   "cell_type": "code",
   "execution_count": 13,
   "id": "413bc6d1",
   "metadata": {
    "execution": {
     "iopub.execute_input": "2025-05-03T12:19:03.758361Z",
     "iopub.status.busy": "2025-05-03T12:19:03.758071Z",
     "iopub.status.idle": "2025-05-03T12:19:03.776242Z",
     "shell.execute_reply": "2025-05-03T12:19:03.775214Z"
    },
    "papermill": {
     "duration": 0.025534,
     "end_time": "2025-05-03T12:19:03.777763",
     "exception": false,
     "start_time": "2025-05-03T12:19:03.752229",
     "status": "completed"
    },
    "tags": []
   },
   "outputs": [
    {
     "name": "stdout",
     "output_type": "stream",
     "text": [
      "정확도: 0.90\n",
      "정밀도 (Precision): 0.89\n",
      "재현율 (Recall): 0.93\n",
      "F1 스코어: 0.91\n",
      "특이도 (Specificity): 0.86\n"
     ]
    }
   ],
   "source": [
    "# 정확도 평가\n",
    "accuracy = accuracy_score(y_test, y_pred)\n",
    "print(f\"정확도: {accuracy:.2f}\")\n",
    "\n",
    "# Precision, Recall, F1 Score 계산\n",
    "precision = precision_score(y_test, y_pred)\n",
    "recall = recall_score(y_test, y_pred)\n",
    "f1 = f1_score(y_test, y_pred)\n",
    "print(f\"정밀도 (Precision): {precision:.2f}\")\n",
    "print(f\"재현율 (Recall): {recall:.2f}\")\n",
    "print(f\"F1 스코어: {f1:.2f}\")\n",
    "\n",
    "# Specificity 계산 (TN / (TN + FP))\n",
    "cm = confusion_matrix(y_test, y_pred)\n",
    "tn, fp, fn, tp = cm.ravel()\n",
    "specificity = tn / (tn + fp)\n",
    "print(f\"특이도 (Specificity): {specificity:.2f}\")"
   ]
  },
  {
   "cell_type": "code",
   "execution_count": 14,
   "id": "7f0b7ef6",
   "metadata": {
    "execution": {
     "iopub.execute_input": "2025-05-03T12:19:03.789000Z",
     "iopub.status.busy": "2025-05-03T12:19:03.788668Z",
     "iopub.status.idle": "2025-05-03T12:19:04.168086Z",
     "shell.execute_reply": "2025-05-03T12:19:04.167032Z"
    },
    "papermill": {
     "duration": 0.386999,
     "end_time": "2025-05-03T12:19:04.169741",
     "exception": false,
     "start_time": "2025-05-03T12:19:03.782742",
     "status": "completed"
    },
    "tags": []
   },
   "outputs": [
    {
     "name": "stdout",
     "output_type": "stream",
     "text": [
      "              precision    recall  f1-score   support\n",
      "\n",
      "           0       0.91      0.86      0.88       123\n",
      "           1       0.89      0.93      0.91       153\n",
      "\n",
      "    accuracy                           0.90       276\n",
      "   macro avg       0.90      0.89      0.90       276\n",
      "weighted avg       0.90      0.90      0.90       276\n",
      "\n",
      "ROC AUC: 0.9434613953982678\n"
     ]
    },
    {
     "data": {
      "image/png": "[encoded data removed]",
      "text/plain": [
       "<Figure size 640x480 with 1 Axes>"
      ]
     },
     "metadata": {},
     "output_type": "display_data"
    },
    {
     "data": {
      "image/png": "[encoded data removed]",
      "text/plain": [
       "<Figure size 640x480 with 1 Axes>"
      ]
     },
     "metadata": {},
     "output_type": "display_data"
    }
   ],
   "source": [
    "# 5. 평가 지표 출력\n",
    "print(classification_report(y_test, y_pred))\n",
    "print(\"ROC AUC:\", roc_auc_score(y_test, y_proba))\n",
    "\n",
    "# 6. ROC Curve\n",
    "from sklearn.metrics import roc_curve\n",
    "fpr, tpr, _ = roc_curve(y_test, y_proba)\n",
    "plt.plot(fpr, tpr, label=\"ROC curve (AUC = {:.2f})\".format(roc_auc_score(y_test, y_proba)))\n",
    "plt.plot([0, 1], [0, 1], \"k--\")\n",
    "plt.xlabel(\"False Positive Rate\")\n",
    "plt.ylabel(\"True Positive Rate\")\n",
    "plt.title(\"ROC Curve\")\n",
    "plt.legend()\n",
    "plt.show()\n",
    "\n",
    "# 7. PR Curve\n",
    "precision, recall, _ = precision_recall_curve(y_test, y_proba)\n",
    "plt.plot(recall, precision, label=\"PR curve (AUC = {:.2f})\".format(auc(recall, precision)))\n",
    "plt.xlabel(\"Recall\")\n",
    "plt.ylabel(\"Precision\")\n",
    "plt.title(\"Precision-Recall Curve\")\n",
    "plt.legend()\n",
    "plt.show()"
   ]
  }
 ],
 "metadata": {
  "kaggle": {
   "accelerator": "none",
   "dataSources": [
    {
     "datasetId": 1582403,
     "sourceId": 2603715,
     "sourceType": "datasetVersion"
    }
   ],
   "dockerImageVersionId": 31012,
   "isGpuEnabled": false,
   "isInternetEnabled": false,
   "language": "python",
   "sourceType": "notebook"
  },
  "kernelspec": {
   "display_name": "Python 3",
   "language": "python",
   "name": "python3"
  },
  "language_info": {
   "codemirror_mode": {
    "name": "ipython",
    "version": 3
   },
   "file_extension": ".py",
   "mimetype": "text/x-python",
   "name": "python",
   "nbconvert_exporter": "python",
   "pygments_lexer": "ipython3",
   "version": "3.11.11"
  },
  "papermill": {
   "default_parameters": {},
   "duration": 11.785089,
   "end_time": "2025-05-03T12:19:04.897198",
   "environment_variables": {},
   "exception": null,
   "input_path": "__notebook__.ipynb",
   "output_path": "__notebook__.ipynb",
   "parameters": {},
   "start_time": "2025-05-03T12:18:53.112109",
   "version": "2.6.0"
  }
 },
 "nbformat": 4,
 "nbformat_minor": 5
}
