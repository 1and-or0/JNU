{
 "cells": [
  {
   "cell_type": "code",
   "execution_count": 1,
   "id": "258a8537",
   "metadata": {
    "_cell_guid": "b1076dfc-b9ad-4769-8c92-a6c4dae69d19",
    "_uuid": "8f2839f25d086af736a60e9eeb907d3b93b6e0e5",
    "execution": {
     "iopub.execute_input": "2025-05-03T12:15:15.724411Z",
     "iopub.status.busy": "2025-05-03T12:15:15.723976Z",
     "iopub.status.idle": "2025-05-03T12:15:17.609113Z",
     "shell.execute_reply": "2025-05-03T12:15:17.608052Z"
    },
    "papermill": {
     "duration": 1.892159,
     "end_time": "2025-05-03T12:15:17.610780",
     "exception": false,
     "start_time": "2025-05-03T12:15:15.718621",
     "status": "completed"
    },
    "tags": []
   },
   "outputs": [
    {
     "name": "stdout",
     "output_type": "stream",
     "text": [
      "/kaggle/input/heart-failure-prediction/heart.csv\n"
     ]
    }
   ],
   "source": [
    "# This Python 3 environment comes with many helpful analytics libraries installed\n",
    "# It is defined by the kaggle/python Docker image: https://github.com/kaggle/docker-python\n",
    "# For example, here's several helpful packages to load\n",
    "\n",
    "import numpy as np # linear algebra\n",
    "import pandas as pd # data processing, CSV file I/O (e.g. pd.read_csv)\n",
    "\n",
    "# Input data files are available in the read-only \"../input/\" directory\n",
    "# For example, running this (by clicking run or pressing Shift+Enter) will list all files under the input directory\n",
    "\n",
    "import os\n",
    "for dirname, _, filenames in os.walk('/kaggle/input'):\n",
    "    for filename in filenames:\n",
    "        print(os.path.join(dirname, filename))\n",
    "\n",
    "# You can write up to 20GB to the current directory (/kaggle/working/) that gets preserved as output when you create a version using \"Save & Run All\" \n",
    "# You can also write temporary files to /kaggle/temp/, but they won't be saved outside of the current session"
   ]
  },
  {
   "cell_type": "code",
   "execution_count": 2,
   "id": "c57e41ea",
   "metadata": {
    "execution": {
     "iopub.execute_input": "2025-05-03T12:15:17.618917Z",
     "iopub.status.busy": "2025-05-03T12:15:17.618509Z",
     "iopub.status.idle": "2025-05-03T12:15:20.220887Z",
     "shell.execute_reply": "2025-05-03T12:15:20.220133Z"
    },
    "papermill": {
     "duration": 2.608059,
     "end_time": "2025-05-03T12:15:20.222537",
     "exception": false,
     "start_time": "2025-05-03T12:15:17.614478",
     "status": "completed"
    },
    "tags": []
   },
   "outputs": [],
   "source": [
    "from sklearn.model_selection import train_test_split\n",
    "from sklearn.ensemble import RandomForestClassifier\n",
    "import matplotlib.pyplot as plt\n",
    "from sklearn.metrics import classification_report, roc_auc_score, precision_recall_curve, auc\n",
    "from sklearn.metrics import accuracy_score, precision_score,recall_score,f1_score, roc_curve, precision_recall_curve, auc, f1_score, confusion_matrix\n",
    "import seaborn as sns"
   ]
  },
  {
   "cell_type": "code",
   "execution_count": 3,
   "id": "e8a8d802",
   "metadata": {
    "execution": {
     "iopub.execute_input": "2025-05-03T12:15:20.230024Z",
     "iopub.status.busy": "2025-05-03T12:15:20.229613Z",
     "iopub.status.idle": "2025-05-03T12:15:20.272506Z",
     "shell.execute_reply": "2025-05-03T12:15:20.271346Z"
    },
    "papermill": {
     "duration": 0.048231,
     "end_time": "2025-05-03T12:15:20.274032",
     "exception": false,
     "start_time": "2025-05-03T12:15:20.225801",
     "status": "completed"
    },
    "tags": []
   },
   "outputs": [
    {
     "name": "stdout",
     "output_type": "stream",
     "text": [
      "<class 'pandas.core.frame.DataFrame'>\n",
      "RangeIndex: 918 entries, 0 to 917\n",
      "Data columns (total 12 columns):\n",
      " #   Column          Non-Null Count  Dtype  \n",
      "---  ------          --------------  -----  \n",
      " 0   Age             918 non-null    int64  \n",
      " 1   Sex             918 non-null    object \n",
      " 2   ChestPainType   918 non-null    object \n",
      " 3   RestingBP       918 non-null    int64  \n",
      " 4   Cholesterol     918 non-null    int64  \n",
      " 5   FastingBS       918 non-null    int64  \n",
      " 6   RestingECG      918 non-null    object \n",
      " 7   MaxHR           918 non-null    int64  \n",
      " 8   ExerciseAngina  918 non-null    object \n",
      " 9   Oldpeak         918 non-null    float64\n",
      " 10  ST_Slope        918 non-null    object \n",
      " 11  HeartDisease    918 non-null    int64  \n",
      "dtypes: float64(1), int64(6), object(5)\n",
      "memory usage: 86.2+ KB\n"
     ]
    }
   ],
   "source": [
    "data = pd.read_csv(\"/kaggle/input/heart-failure-prediction/heart.csv\")\n",
    "data.head()\n",
    "data.info()"
   ]
  },
  {
   "cell_type": "code",
   "execution_count": 4,
   "id": "dc1940cb",
   "metadata": {
    "execution": {
     "iopub.execute_input": "2025-05-03T12:15:20.281596Z",
     "iopub.status.busy": "2025-05-03T12:15:20.281298Z",
     "iopub.status.idle": "2025-05-03T12:15:20.425026Z",
     "shell.execute_reply": "2025-05-03T12:15:20.423907Z"
    },
    "papermill": {
     "duration": 0.149212,
     "end_time": "2025-05-03T12:15:20.426616",
     "exception": true,
     "start_time": "2025-05-03T12:15:20.277404",
     "status": "failed"
    },
    "tags": []
   },
   "outputs": [
    {
     "ename": "NameError",
     "evalue": "name 'df' is not defined",
     "output_type": "error",
     "traceback": [
      "\u001b[0;31m---------------------------------------------------------------------------\u001b[0m",
      "\u001b[0;31mNameError\u001b[0m                                 Traceback (most recent call last)",
      "\u001b[0;32m/tmp/ipykernel_13/409627478.py\u001b[0m in \u001b[0;36m<cell line: 0>\u001b[0;34m()\u001b[0m\n\u001b[1;32m      1\u001b[0m \u001b[0;31m# 각 열별 결측치 개수 확인\u001b[0m\u001b[0;34m\u001b[0m\u001b[0;34m\u001b[0m\u001b[0m\n\u001b[0;32m----> 2\u001b[0;31m \u001b[0mnull_counts_by_column\u001b[0m \u001b[0;34m=\u001b[0m \u001b[0mdf\u001b[0m\u001b[0;34m.\u001b[0m\u001b[0misnull\u001b[0m\u001b[0;34m(\u001b[0m\u001b[0;34m)\u001b[0m\u001b[0;34m.\u001b[0m\u001b[0msum\u001b[0m\u001b[0;34m(\u001b[0m\u001b[0;34m)\u001b[0m\u001b[0;34m\u001b[0m\u001b[0;34m\u001b[0m\u001b[0m\n\u001b[0m\u001b[1;32m      3\u001b[0m \u001b[0mprint\u001b[0m\u001b[0;34m(\u001b[0m\u001b[0;34m\"각 열별 결측치 개수:\\n\"\u001b[0m\u001b[0;34m,\u001b[0m \u001b[0mnull_counts_by_column\u001b[0m\u001b[0;34m)\u001b[0m\u001b[0;34m\u001b[0m\u001b[0;34m\u001b[0m\u001b[0m\n",
      "\u001b[0;31mNameError\u001b[0m: name 'df' is not defined"
     ]
    }
   ],
   "source": [
    "# 각 열별 결측치 개수 확인\n",
    "null_counts_by_column = df.isnull().sum()\n",
    "print(\"각 열별 결측치 개수:\\n\", null_counts_by_column)"
   ]
  },
  {
   "cell_type": "code",
   "execution_count": null,
   "id": "b89cc456",
   "metadata": {
    "execution": {
     "iopub.execute_input": "2025-05-03T11:39:54.108103Z",
     "iopub.status.busy": "2025-05-03T11:39:54.107488Z",
     "iopub.status.idle": "2025-05-03T11:39:54.127053Z",
     "shell.execute_reply": "2025-05-03T11:39:54.126135Z",
     "shell.execute_reply.started": "2025-05-03T11:39:54.108078Z"
    },
    "papermill": {
     "duration": null,
     "end_time": null,
     "exception": null,
     "start_time": null,
     "status": "pending"
    },
    "tags": []
   },
   "outputs": [],
   "source": [
    "# 전처리 다중 범주형 \n",
    "df = pd.get_dummies(data, columns=[\"ChestPainType\"])\n",
    "df = pd.get_dummies(df, columns=[\"RestingECG\"])\n",
    "df = pd.get_dummies(df, columns=[\"ST_Slope\"])\n",
    "# df.head()\n",
    "df.info()"
   ]
  },
  {
   "cell_type": "code",
   "execution_count": null,
   "id": "33aca62d",
   "metadata": {
    "execution": {
     "iopub.execute_input": "2025-05-03T11:38:37.089960Z",
     "iopub.status.busy": "2025-05-03T11:38:37.089128Z",
     "iopub.status.idle": "2025-05-03T11:38:37.099054Z",
     "shell.execute_reply": "2025-05-03T11:38:37.098233Z",
     "shell.execute_reply.started": "2025-05-03T11:38:37.089935Z"
    },
    "papermill": {
     "duration": null,
     "end_time": null,
     "exception": null,
     "start_time": null,
     "status": "pending"
    },
    "tags": []
   },
   "outputs": [],
   "source": [
    "# 전처리 - 이진\n",
    "map_Sex = { \"M\": 0, \"F\": 1 }\n",
    "map_ExerciseAngina = { \"N\": 0, \"Y\": 1 }\n",
    "\n",
    "df[\"Sex\"] = df[\"Sex\"].map(map_Sex)\n",
    "df[\"ExerciseAngina\"] = df[\"ExerciseAngina\"].map(map_ExerciseAngina)\n",
    "df.head()\n",
    "# df.info()\n",
    "len(df)"
   ]
  },
  {
   "cell_type": "code",
   "execution_count": null,
   "id": "af18021c",
   "metadata": {
    "execution": {
     "iopub.execute_input": "2025-05-03T11:14:28.693789Z",
     "iopub.status.busy": "2025-05-03T11:14:28.693168Z",
     "iopub.status.idle": "2025-05-03T11:14:28.707809Z",
     "shell.execute_reply": "2025-05-03T11:14:28.706945Z",
     "shell.execute_reply.started": "2025-05-03T11:14:28.693763Z"
    },
    "papermill": {
     "duration": null,
     "end_time": null,
     "exception": null,
     "start_time": null,
     "status": "pending"
    },
    "tags": []
   },
   "outputs": [],
   "source": [
    "# 타겟 분리\n",
    "X = df.drop(columns=['HeartDisease'], axis=1)\n",
    "y = df['HeartDisease']\n",
    "# y\n",
    "X.head()\n",
    "# X.info()\n",
    "# y.info()"
   ]
  },
  {
   "cell_type": "code",
   "execution_count": null,
   "id": "91ef627e",
   "metadata": {
    "execution": {
     "iopub.execute_input": "2025-05-03T11:14:56.490952Z",
     "iopub.status.busy": "2025-05-03T11:14:56.490662Z",
     "iopub.status.idle": "2025-05-03T11:14:56.500562Z",
     "shell.execute_reply": "2025-05-03T11:14:56.499881Z",
     "shell.execute_reply.started": "2025-05-03T11:14:56.490928Z"
    },
    "papermill": {
     "duration": null,
     "end_time": null,
     "exception": null,
     "start_time": null,
     "status": "pending"
    },
    "tags": []
   },
   "outputs": [],
   "source": [
    "# 2. 학습/테스트 분리\n",
    "X_train, X_test, y_train, y_test = train_test_split(X, y, test_size=0.3, stratify=y, random_state=42)"
   ]
  },
  {
   "cell_type": "code",
   "execution_count": null,
   "id": "3d936358",
   "metadata": {
    "execution": {
     "iopub.execute_input": "2025-05-03T11:15:05.909972Z",
     "iopub.status.busy": "2025-05-03T11:15:05.909376Z",
     "iopub.status.idle": "2025-05-03T11:15:06.117836Z",
     "shell.execute_reply": "2025-05-03T11:15:06.117000Z",
     "shell.execute_reply.started": "2025-05-03T11:15:05.909948Z"
    },
    "papermill": {
     "duration": null,
     "end_time": null,
     "exception": null,
     "start_time": null,
     "status": "pending"
    },
    "tags": []
   },
   "outputs": [],
   "source": [
    "# 3. 모델 정의 및 학습\n",
    "model = RandomForestClassifier(n_estimators=100, random_state=42)\n",
    "model.fit(X_train, y_train)"
   ]
  },
  {
   "cell_type": "code",
   "execution_count": null,
   "id": "e723f29c",
   "metadata": {
    "execution": {
     "iopub.execute_input": "2025-05-03T12:01:09.294124Z",
     "iopub.status.busy": "2025-05-03T12:01:09.293404Z",
     "iopub.status.idle": "2025-05-03T12:01:09.307132Z",
     "shell.execute_reply": "2025-05-03T12:01:09.306373Z",
     "shell.execute_reply.started": "2025-05-03T12:01:09.294100Z"
    },
    "papermill": {
     "duration": null,
     "end_time": null,
     "exception": null,
     "start_time": null,
     "status": "pending"
    },
    "tags": []
   },
   "outputs": [],
   "source": [
    "# 중요도 추출\n",
    "importances = model.feature_importances_\n",
    "# X_train.columns와 함께 정리\n",
    "feature_importance_df = pd.DataFrame({\n",
    "    'Feature': X_train.columns,\n",
    "    'Importance': importances\n",
    "}).sort_values(by='Importance', ascending=False)\n",
    "\n",
    "print(feature_importance_df)"
   ]
  },
  {
   "cell_type": "code",
   "execution_count": null,
   "id": "0c3ff878",
   "metadata": {
    "execution": {
     "iopub.execute_input": "2025-05-03T12:02:06.791300Z",
     "iopub.status.busy": "2025-05-03T12:02:06.790905Z",
     "iopub.status.idle": "2025-05-03T12:02:07.097971Z",
     "shell.execute_reply": "2025-05-03T12:02:07.097261Z",
     "shell.execute_reply.started": "2025-05-03T12:02:06.791276Z"
    },
    "papermill": {
     "duration": null,
     "end_time": null,
     "exception": null,
     "start_time": null,
     "status": "pending"
    },
    "tags": []
   },
   "outputs": [],
   "source": [
    "plt.figure(figsize=(10, 6))\n",
    "sns.barplot(x='Importance', y='Feature', data=feature_importance_df)\n",
    "plt.title(\"Random Forest Feature Importances\")\n",
    "plt.tight_layout()\n",
    "plt.show()"
   ]
  },
  {
   "cell_type": "code",
   "execution_count": null,
   "id": "f5095e73",
   "metadata": {
    "execution": {
     "iopub.execute_input": "2025-05-03T11:15:13.048351Z",
     "iopub.status.busy": "2025-05-03T11:15:13.047807Z",
     "iopub.status.idle": "2025-05-03T11:15:13.073464Z",
     "shell.execute_reply": "2025-05-03T11:15:13.072673Z",
     "shell.execute_reply.started": "2025-05-03T11:15:13.048327Z"
    },
    "papermill": {
     "duration": null,
     "end_time": null,
     "exception": null,
     "start_time": null,
     "status": "pending"
    },
    "tags": []
   },
   "outputs": [],
   "source": [
    "# 4. 예측 및 평가\n",
    "y_pred = model.predict(X_test)\n",
    "y_proba = model.predict_proba(X_test)[:, 1]"
   ]
  },
  {
   "cell_type": "code",
   "execution_count": null,
   "id": "9e158f15",
   "metadata": {
    "execution": {
     "iopub.execute_input": "2025-05-03T11:27:00.036680Z",
     "iopub.status.busy": "2025-05-03T11:27:00.035919Z",
     "iopub.status.idle": "2025-05-03T11:27:00.053888Z",
     "shell.execute_reply": "2025-05-03T11:27:00.053061Z",
     "shell.execute_reply.started": "2025-05-03T11:27:00.036657Z"
    },
    "papermill": {
     "duration": null,
     "end_time": null,
     "exception": null,
     "start_time": null,
     "status": "pending"
    },
    "tags": []
   },
   "outputs": [],
   "source": [
    "# 정확도 평가\n",
    "accuracy = accuracy_score(y_test, y_pred)\n",
    "print(f\"정확도: {accuracy:.2f}\")\n",
    "\n",
    "# Precision, Recall, F1 Score 계산\n",
    "precision = precision_score(y_test, y_pred)\n",
    "recall = recall_score(y_test, y_pred)\n",
    "f1 = f1_score(y_test, y_pred)\n",
    "print(f\"정밀도 (Precision): {precision:.2f}\")\n",
    "print(f\"재현율 (Recall): {recall:.2f}\")\n",
    "print(f\"F1 스코어: {f1:.2f}\")\n",
    "\n",
    "# Specificity 계산 (TN / (TN + FP))\n",
    "cm = confusion_matrix(y_test, y_pred)\n",
    "tn, fp, fn, tp = cm.ravel()\n",
    "specificity = tn / (tn + fp)\n",
    "print(f\"특이도 (Specificity): {specificity:.2f}\")"
   ]
  },
  {
   "cell_type": "code",
   "execution_count": null,
   "id": "543cdba9",
   "metadata": {
    "execution": {
     "iopub.execute_input": "2025-05-03T11:15:19.223813Z",
     "iopub.status.busy": "2025-05-03T11:15:19.223012Z",
     "iopub.status.idle": "2025-05-03T11:15:19.633272Z",
     "shell.execute_reply": "2025-05-03T11:15:19.632491Z",
     "shell.execute_reply.started": "2025-05-03T11:15:19.223787Z"
    },
    "papermill": {
     "duration": null,
     "end_time": null,
     "exception": null,
     "start_time": null,
     "status": "pending"
    },
    "tags": []
   },
   "outputs": [],
   "source": [
    "# 5. 평가 지표 출력\n",
    "print(classification_report(y_test, y_pred))\n",
    "print(\"ROC AUC:\", roc_auc_score(y_test, y_proba))\n",
    "\n",
    "# 6. ROC Curve\n",
    "from sklearn.metrics import roc_curve\n",
    "fpr, tpr, _ = roc_curve(y_test, y_proba)\n",
    "plt.plot(fpr, tpr, label=\"ROC curve (AUC = {:.2f})\".format(roc_auc_score(y_test, y_proba)))\n",
    "plt.plot([0, 1], [0, 1], \"k--\")\n",
    "plt.xlabel(\"False Positive Rate\")\n",
    "plt.ylabel(\"True Positive Rate\")\n",
    "plt.title(\"ROC Curve\")\n",
    "plt.legend()\n",
    "plt.show()\n",
    "\n",
    "# 7. PR Curve\n",
    "precision, recall, _ = precision_recall_curve(y_test, y_proba)\n",
    "plt.plot(recall, precision, label=\"PR curve (AUC = {:.2f})\".format(auc(recall, precision)))\n",
    "plt.xlabel(\"Recall\")\n",
    "plt.ylabel(\"Precision\")\n",
    "plt.title(\"Precision-Recall Curve\")\n",
    "plt.legend()\n",
    "plt.show()"
   ]
  }
 ],
 "metadata": {
  "kaggle": {
   "accelerator": "none",
   "dataSources": [
    {
     "datasetId": 1582403,
     "sourceId": 2603715,
     "sourceType": "datasetVersion"
    }
   ],
   "dockerImageVersionId": 31012,
   "isGpuEnabled": false,
   "isInternetEnabled": false,
   "language": "python",
   "sourceType": "notebook"
  },
  "kernelspec": {
   "display_name": "Python 3",
   "language": "python",
   "name": "python3"
  },
  "language_info": {
   "codemirror_mode": {
    "name": "ipython",
    "version": 3
   },
   "file_extension": ".py",
   "mimetype": "text/x-python",
   "name": "python",
   "nbconvert_exporter": "python",
   "pygments_lexer": "ipython3",
   "version": "3.11.11"
  },
  "papermill": {
   "default_parameters": {},
   "duration": 10.379054,
   "end_time": "2025-05-03T12:15:21.149461",
   "environment_variables": {},
   "exception": true,
   "input_path": "__notebook__.ipynb",
   "output_path": "__notebook__.ipynb",
   "parameters": {},
   "start_time": "2025-05-03T12:15:10.770407",
   "version": "2.6.0"
  }
 },
 "nbformat": 4,
 "nbformat_minor": 5
}
