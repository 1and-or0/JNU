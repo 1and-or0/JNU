{
 "cells": [
  {
   "cell_type": "code",
   "execution_count": 1,
   "id": "8174b937",
   "metadata": {
    "_cell_guid": "b1076dfc-b9ad-4769-8c92-a6c4dae69d19",
    "_uuid": "8f2839f25d086af736a60e9eeb907d3b93b6e0e5",
    "execution": {
     "iopub.execute_input": "2025-04-05T09:56:07.013807Z",
     "iopub.status.busy": "2025-04-05T09:56:07.013439Z",
     "iopub.status.idle": "2025-04-05T09:56:08.068285Z",
     "shell.execute_reply": "2025-04-05T09:56:08.066969Z"
    },
    "papermill": {
     "duration": 1.061556,
     "end_time": "2025-04-05T09:56:08.070251",
     "exception": false,
     "start_time": "2025-04-05T09:56:07.008695",
     "status": "completed"
    },
    "tags": []
   },
   "outputs": [
    {
     "name": "stdout",
     "output_type": "stream",
     "text": [
      "/kaggle/input/student-depression-dataset/student_depression_dataset.csv\n"
     ]
    }
   ],
   "source": [
    "# This Python 3 environment comes with many helpful analytics libraries installed\n",
    "# It is defined by the kaggle/python Docker image: https://github.com/kaggle/docker-python\n",
    "# For example, here's several helpful packages to load\n",
    "\n",
    "import numpy as np # linear algebra\n",
    "import pandas as pd # data processing, CSV file I/O (e.g. pd.read_csv)\n",
    "\n",
    "# Input data files are available in the read-only \"../input/\" directory\n",
    "# For example, running this (by clicking run or pressing Shift+Enter) will list all files under the input directory\n",
    "\n",
    "import os\n",
    "for dirname, _, filenames in os.walk('/kaggle/input'):\n",
    "    for filename in filenames:\n",
    "        print(os.path.join(dirname, filename))\n",
    "\n",
    "# You can write up to 20GB to the current directory (/kaggle/working/) that gets preserved as output when you create a version using \"Save & Run All\" \n",
    "# You can also write temporary files to /kaggle/temp/, but they won't be saved outside of the current session"
   ]
  },
  {
   "cell_type": "code",
   "execution_count": 2,
   "id": "753f4081",
   "metadata": {
    "execution": {
     "iopub.execute_input": "2025-04-05T09:56:08.078657Z",
     "iopub.status.busy": "2025-04-05T09:56:08.078123Z",
     "iopub.status.idle": "2025-04-05T09:56:10.108228Z",
     "shell.execute_reply": "2025-04-05T09:56:10.107083Z"
    },
    "papermill": {
     "duration": 2.036291,
     "end_time": "2025-04-05T09:56:10.110228",
     "exception": false,
     "start_time": "2025-04-05T09:56:08.073937",
     "status": "completed"
    },
    "tags": []
   },
   "outputs": [],
   "source": [
    "import matplotlib.pyplot as plt\n",
    "from sklearn.model_selection import train_test_split\n",
    "from sklearn.linear_model import SGDClassifier\n",
    "from sklearn.metrics import accuracy_score, roc_auc_score, average_precision_score, roc_curve, precision_recall_curve\n",
    "from sklearn.preprocessing import StandardScaler, OneHotEncoder, MinMaxScaler, OrdinalEncoder\n",
    "from sklearn.compose import ColumnTransformer\n",
    "from sklearn.pipeline import Pipeline\n",
    "from sklearn.feature_extraction.text import TfidfVectorizer\n",
    "from statsmodels.stats.outliers_influence import variance_inflation_factor\n",
    "from sklearn.metrics import (accuracy_score, precision_score, recall_score, f1_score, confusion_matrix, roc_curve, precision_recall_curve, auc)"
   ]
  },
  {
   "cell_type": "code",
   "execution_count": 3,
   "id": "541b8271",
   "metadata": {
    "execution": {
     "iopub.execute_input": "2025-04-05T09:56:10.118567Z",
     "iopub.status.busy": "2025-04-05T09:56:10.117946Z",
     "iopub.status.idle": "2025-04-05T09:56:10.338677Z",
     "shell.execute_reply": "2025-04-05T09:56:10.337304Z"
    },
    "papermill": {
     "duration": 0.226748,
     "end_time": "2025-04-05T09:56:10.340513",
     "exception": false,
     "start_time": "2025-04-05T09:56:10.113765",
     "status": "completed"
    },
    "tags": []
   },
   "outputs": [
    {
     "name": "stdout",
     "output_type": "stream",
     "text": [
      "27880 0\n"
     ]
    }
   ],
   "source": [
    "student = pd.read_csv(\"/kaggle/input/student-depression-dataset/student_depression_dataset.csv\")\n",
    "df = student.drop(columns=[\"id\", \"Gender\", \"Age\", \"City\", \"Profession\", \"Job Satisfaction\", \"Work Pressure\", \"CGPA\", \"Dietary Habits\", \"Degree\"])\n",
    "\n",
    "# 결측치 제거\n",
    "filtered_df = df[~df[\"Sleep Duration\"].isin([\"Others\"])]\n",
    "clean_df = filtered_df[~filtered_df[\"Financial Stress\"].isin([\"?\"])]\n",
    "newdf = clean_df.copy(deep=True)\n",
    "newdf[\"Sleep Duration\"] = newdf[\"Sleep Duration\"].str.replace(r'^[\\'\"]|[\\'\"]$', '', regex=True)\n",
    "count = 0\n",
    "what = 0\n",
    "for e in newdf[\"Sleep Duration\"]:\n",
    "    if (e not in ['Less than 5 hours', '5-6 hours', '6-7 hours', '7-8 hours', 'More than 8 hours']):\n",
    "        print(\"망함\")\n",
    "        what += 1\n",
    "    else:\n",
    "        count += 1\n",
    "print(count, what)\n",
    "len(newdf)\n",
    "use_df = newdf"
   ]
  },
  {
   "cell_type": "code",
   "execution_count": 4,
   "id": "f9b0c0c7",
   "metadata": {
    "execution": {
     "iopub.execute_input": "2025-04-05T09:56:10.348840Z",
     "iopub.status.busy": "2025-04-05T09:56:10.348351Z",
     "iopub.status.idle": "2025-04-05T09:56:10.387148Z",
     "shell.execute_reply": "2025-04-05T09:56:10.385987Z"
    },
    "papermill": {
     "duration": 0.044768,
     "end_time": "2025-04-05T09:56:10.388888",
     "exception": false,
     "start_time": "2025-04-05T09:56:10.344120",
     "status": "completed"
    },
    "tags": []
   },
   "outputs": [
    {
     "name": "stdout",
     "output_type": "stream",
     "text": [
      "Depression\n",
      "1    13061\n",
      "0     9243\n",
      "Name: count, dtype: int64\n",
      "훈련 세트 비율:\n",
      "Depression\n",
      "1    0.58559\n",
      "0    0.41441\n",
      "Name: proportion, dtype: float64\n",
      "\n",
      "테스트 세트 비율:\n",
      "Depression\n",
      "1    0.585545\n",
      "0    0.414455\n",
      "Name: proportion, dtype: float64\n"
     ]
    }
   ],
   "source": [
    "# 타겟 분리\n",
    "y = use_df['Depression']\n",
    "X = use_df.drop(columns=['Depression'])\n",
    "\n",
    "# 학습/테스트 데이터 분할\n",
    "X_train, X_test, y_train, y_test = train_test_split(X, y, test_size=0.2, stratify=y, random_state=42)\n",
    "\n",
    "print(y_train.value_counts())\n",
    "# 검증\n",
    "print(\"훈련 세트 비율:\")\n",
    "print(y_train.value_counts(normalize=True))\n",
    "print(\"\\n테스트 세트 비율:\")\n",
    "print(y_test.value_counts(normalize=True))"
   ]
  },
  {
   "cell_type": "code",
   "execution_count": 5,
   "id": "1dc67ad8",
   "metadata": {
    "execution": {
     "iopub.execute_input": "2025-04-05T09:56:10.397456Z",
     "iopub.status.busy": "2025-04-05T09:56:10.397018Z",
     "iopub.status.idle": "2025-04-05T09:56:10.472163Z",
     "shell.execute_reply": "2025-04-05T09:56:10.471011Z"
    },
    "papermill": {
     "duration": 0.08157,
     "end_time": "2025-04-05T09:56:10.474045",
     "exception": false,
     "start_time": "2025-04-05T09:56:10.392475",
     "status": "completed"
    },
    "tags": []
   },
   "outputs": [
    {
     "data": {
      "text/html": [
       "<style>#sk-container-id-1 {color: black;background-color: white;}#sk-container-id-1 pre{padding: 0;}#sk-container-id-1 div.sk-toggleable {background-color: white;}#sk-container-id-1 label.sk-toggleable__label {cursor: pointer;display: block;width: 100%;margin-bottom: 0;padding: 0.3em;box-sizing: border-box;text-align: center;}#sk-container-id-1 label.sk-toggleable__label-arrow:before {content: \"▸\";float: left;margin-right: 0.25em;color: #696969;}#sk-container-id-1 label.sk-toggleable__label-arrow:hover:before {color: black;}#sk-container-id-1 div.sk-estimator:hover label.sk-toggleable__label-arrow:before {color: black;}#sk-container-id-1 div.sk-toggleable__content {max-height: 0;max-width: 0;overflow: hidden;text-align: left;background-color: #f0f8ff;}#sk-container-id-1 div.sk-toggleable__content pre {margin: 0.2em;color: black;border-radius: 0.25em;background-color: #f0f8ff;}#sk-container-id-1 input.sk-toggleable__control:checked~div.sk-toggleable__content {max-height: 200px;max-width: 100%;overflow: auto;}#sk-container-id-1 input.sk-toggleable__control:checked~label.sk-toggleable__label-arrow:before {content: \"▾\";}#sk-container-id-1 div.sk-estimator input.sk-toggleable__control:checked~label.sk-toggleable__label {background-color: #d4ebff;}#sk-container-id-1 div.sk-label input.sk-toggleable__control:checked~label.sk-toggleable__label {background-color: #d4ebff;}#sk-container-id-1 input.sk-hidden--visually {border: 0;clip: rect(1px 1px 1px 1px);clip: rect(1px, 1px, 1px, 1px);height: 1px;margin: -1px;overflow: hidden;padding: 0;position: absolute;width: 1px;}#sk-container-id-1 div.sk-estimator {font-family: monospace;background-color: #f0f8ff;border: 1px dotted black;border-radius: 0.25em;box-sizing: border-box;margin-bottom: 0.5em;}#sk-container-id-1 div.sk-estimator:hover {background-color: #d4ebff;}#sk-container-id-1 div.sk-parallel-item::after {content: \"\";width: 100%;border-bottom: 1px solid gray;flex-grow: 1;}#sk-container-id-1 div.sk-label:hover label.sk-toggleable__label {background-color: #d4ebff;}#sk-container-id-1 div.sk-serial::before {content: \"\";position: absolute;border-left: 1px solid gray;box-sizing: border-box;top: 0;bottom: 0;left: 50%;z-index: 0;}#sk-container-id-1 div.sk-serial {display: flex;flex-direction: column;align-items: center;background-color: white;padding-right: 0.2em;padding-left: 0.2em;position: relative;}#sk-container-id-1 div.sk-item {position: relative;z-index: 1;}#sk-container-id-1 div.sk-parallel {display: flex;align-items: stretch;justify-content: center;background-color: white;position: relative;}#sk-container-id-1 div.sk-item::before, #sk-container-id-1 div.sk-parallel-item::before {content: \"\";position: absolute;border-left: 1px solid gray;box-sizing: border-box;top: 0;bottom: 0;left: 50%;z-index: -1;}#sk-container-id-1 div.sk-parallel-item {display: flex;flex-direction: column;z-index: 1;position: relative;background-color: white;}#sk-container-id-1 div.sk-parallel-item:first-child::after {align-self: flex-end;width: 50%;}#sk-container-id-1 div.sk-parallel-item:last-child::after {align-self: flex-start;width: 50%;}#sk-container-id-1 div.sk-parallel-item:only-child::after {width: 0;}#sk-container-id-1 div.sk-dashed-wrapped {border: 1px dashed gray;margin: 0 0.4em 0.5em 0.4em;box-sizing: border-box;padding-bottom: 0.4em;background-color: white;}#sk-container-id-1 div.sk-label label {font-family: monospace;font-weight: bold;display: inline-block;line-height: 1.2em;}#sk-container-id-1 div.sk-label-container {text-align: center;}#sk-container-id-1 div.sk-container {/* jupyter's `normalize.less` sets `[hidden] { display: none; }` but bootstrap.min.css set `[hidden] { display: none !important; }` so we also need the `!important` here to be able to override the default hidden behavior on the sphinx rendered scikit-learn.org. See: https://github.com/scikit-learn/scikit-learn/issues/21755 */display: inline-block !important;position: relative;}#sk-container-id-1 div.sk-text-repr-fallback {display: none;}</style><div id=\"sk-container-id-1\" class=\"sk-top-container\"><div class=\"sk-text-repr-fallback\"><pre>Pipeline(steps=[(&#x27;preprocessor&#x27;,\n",
       "                 ColumnTransformer(transformers=[(&#x27;num&#x27;,\n",
       "                                                  Pipeline(steps=[(&#x27;scaler&#x27;,\n",
       "                                                                   StandardScaler())]),\n",
       "                                                  [&#x27;Academic Pressure&#x27;,\n",
       "                                                   &#x27;Study Satisfaction&#x27;,\n",
       "                                                   &#x27;Work/Study Hours&#x27;,\n",
       "                                                   &#x27;Financial Stress&#x27;]),\n",
       "                                                 (&#x27;ord&#x27;,\n",
       "                                                  Pipeline(steps=[(&#x27;ordinal&#x27;,\n",
       "                                                                   OrdinalEncoder(categories=[[&#x27;Less &#x27;\n",
       "                                                                                               &#x27;than &#x27;\n",
       "                                                                                               &#x27;5 &#x27;\n",
       "                                                                                               &#x27;hours&#x27;,\n",
       "                                                                                               &#x27;5-6 &#x27;\n",
       "                                                                                               &#x27;hours&#x27;,\n",
       "                                                                                               &#x27;7-8 &#x27;\n",
       "                                                                                               &#x27;hours&#x27;,\n",
       "                                                                                               &#x27;More &#x27;\n",
       "                                                                                               &#x27;than &#x27;\n",
       "                                                                                               &#x27;8 &#x27;\n",
       "                                                                                               &#x27;hours&#x27;]])),\n",
       "                                                                  (&#x27;scaler&#x27;,\n",
       "                                                                   StandardScaler())]),\n",
       "                                                  [&#x27;Sleep Duration&#x27;]),\n",
       "                                                 (&#x27;cat&#x27;,\n",
       "                                                  Pipeline(steps=[(&#x27;onehot&#x27;,\n",
       "                                                                   OneHotEncoder(drop=&#x27;first&#x27;))]),\n",
       "                                                  [&#x27;Have you ever had suicidal &#x27;\n",
       "                                                   &#x27;thoughts ?&#x27;,\n",
       "                                                   &#x27;Family History of Mental &#x27;\n",
       "                                                   &#x27;Illness&#x27;])])),\n",
       "                (&#x27;classifier&#x27;,\n",
       "                 SGDClassifier(eta0=0.01, learning_rate=&#x27;constant&#x27;,\n",
       "                               loss=&#x27;log_loss&#x27;, max_iter=1, random_state=42,\n",
       "                               tol=0, warm_start=True))])</pre><b>In a Jupyter environment, please rerun this cell to show the HTML representation or trust the notebook. <br />On GitHub, the HTML representation is unable to render, please try loading this page with nbviewer.org.</b></div><div class=\"sk-container\" hidden><div class=\"sk-item sk-dashed-wrapped\"><div class=\"sk-label-container\"><div class=\"sk-label sk-toggleable\"><input class=\"sk-toggleable__control sk-hidden--visually\" id=\"sk-estimator-id-1\" type=\"checkbox\" ><label for=\"sk-estimator-id-1\" class=\"sk-toggleable__label sk-toggleable__label-arrow\">Pipeline</label><div class=\"sk-toggleable__content\"><pre>Pipeline(steps=[(&#x27;preprocessor&#x27;,\n",
       "                 ColumnTransformer(transformers=[(&#x27;num&#x27;,\n",
       "                                                  Pipeline(steps=[(&#x27;scaler&#x27;,\n",
       "                                                                   StandardScaler())]),\n",
       "                                                  [&#x27;Academic Pressure&#x27;,\n",
       "                                                   &#x27;Study Satisfaction&#x27;,\n",
       "                                                   &#x27;Work/Study Hours&#x27;,\n",
       "                                                   &#x27;Financial Stress&#x27;]),\n",
       "                                                 (&#x27;ord&#x27;,\n",
       "                                                  Pipeline(steps=[(&#x27;ordinal&#x27;,\n",
       "                                                                   OrdinalEncoder(categories=[[&#x27;Less &#x27;\n",
       "                                                                                               &#x27;than &#x27;\n",
       "                                                                                               &#x27;5 &#x27;\n",
       "                                                                                               &#x27;hours&#x27;,\n",
       "                                                                                               &#x27;5-6 &#x27;\n",
       "                                                                                               &#x27;hours&#x27;,\n",
       "                                                                                               &#x27;7-8 &#x27;\n",
       "                                                                                               &#x27;hours&#x27;,\n",
       "                                                                                               &#x27;More &#x27;\n",
       "                                                                                               &#x27;than &#x27;\n",
       "                                                                                               &#x27;8 &#x27;\n",
       "                                                                                               &#x27;hours&#x27;]])),\n",
       "                                                                  (&#x27;scaler&#x27;,\n",
       "                                                                   StandardScaler())]),\n",
       "                                                  [&#x27;Sleep Duration&#x27;]),\n",
       "                                                 (&#x27;cat&#x27;,\n",
       "                                                  Pipeline(steps=[(&#x27;onehot&#x27;,\n",
       "                                                                   OneHotEncoder(drop=&#x27;first&#x27;))]),\n",
       "                                                  [&#x27;Have you ever had suicidal &#x27;\n",
       "                                                   &#x27;thoughts ?&#x27;,\n",
       "                                                   &#x27;Family History of Mental &#x27;\n",
       "                                                   &#x27;Illness&#x27;])])),\n",
       "                (&#x27;classifier&#x27;,\n",
       "                 SGDClassifier(eta0=0.01, learning_rate=&#x27;constant&#x27;,\n",
       "                               loss=&#x27;log_loss&#x27;, max_iter=1, random_state=42,\n",
       "                               tol=0, warm_start=True))])</pre></div></div></div><div class=\"sk-serial\"><div class=\"sk-item sk-dashed-wrapped\"><div class=\"sk-label-container\"><div class=\"sk-label sk-toggleable\"><input class=\"sk-toggleable__control sk-hidden--visually\" id=\"sk-estimator-id-2\" type=\"checkbox\" ><label for=\"sk-estimator-id-2\" class=\"sk-toggleable__label sk-toggleable__label-arrow\">preprocessor: ColumnTransformer</label><div class=\"sk-toggleable__content\"><pre>ColumnTransformer(transformers=[(&#x27;num&#x27;,\n",
       "                                 Pipeline(steps=[(&#x27;scaler&#x27;, StandardScaler())]),\n",
       "                                 [&#x27;Academic Pressure&#x27;, &#x27;Study Satisfaction&#x27;,\n",
       "                                  &#x27;Work/Study Hours&#x27;, &#x27;Financial Stress&#x27;]),\n",
       "                                (&#x27;ord&#x27;,\n",
       "                                 Pipeline(steps=[(&#x27;ordinal&#x27;,\n",
       "                                                  OrdinalEncoder(categories=[[&#x27;Less &#x27;\n",
       "                                                                              &#x27;than &#x27;\n",
       "                                                                              &#x27;5 &#x27;\n",
       "                                                                              &#x27;hours&#x27;,\n",
       "                                                                              &#x27;5-6 &#x27;\n",
       "                                                                              &#x27;hours&#x27;,\n",
       "                                                                              &#x27;7-8 &#x27;\n",
       "                                                                              &#x27;hours&#x27;,\n",
       "                                                                              &#x27;More &#x27;\n",
       "                                                                              &#x27;than &#x27;\n",
       "                                                                              &#x27;8 &#x27;\n",
       "                                                                              &#x27;hours&#x27;]])),\n",
       "                                                 (&#x27;scaler&#x27;, StandardScaler())]),\n",
       "                                 [&#x27;Sleep Duration&#x27;]),\n",
       "                                (&#x27;cat&#x27;,\n",
       "                                 Pipeline(steps=[(&#x27;onehot&#x27;,\n",
       "                                                  OneHotEncoder(drop=&#x27;first&#x27;))]),\n",
       "                                 [&#x27;Have you ever had suicidal thoughts ?&#x27;,\n",
       "                                  &#x27;Family History of Mental Illness&#x27;])])</pre></div></div></div><div class=\"sk-parallel\"><div class=\"sk-parallel-item\"><div class=\"sk-item\"><div class=\"sk-label-container\"><div class=\"sk-label sk-toggleable\"><input class=\"sk-toggleable__control sk-hidden--visually\" id=\"sk-estimator-id-3\" type=\"checkbox\" ><label for=\"sk-estimator-id-3\" class=\"sk-toggleable__label sk-toggleable__label-arrow\">num</label><div class=\"sk-toggleable__content\"><pre>[&#x27;Academic Pressure&#x27;, &#x27;Study Satisfaction&#x27;, &#x27;Work/Study Hours&#x27;, &#x27;Financial Stress&#x27;]</pre></div></div></div><div class=\"sk-serial\"><div class=\"sk-item\"><div class=\"sk-serial\"><div class=\"sk-item\"><div class=\"sk-estimator sk-toggleable\"><input class=\"sk-toggleable__control sk-hidden--visually\" id=\"sk-estimator-id-4\" type=\"checkbox\" ><label for=\"sk-estimator-id-4\" class=\"sk-toggleable__label sk-toggleable__label-arrow\">StandardScaler</label><div class=\"sk-toggleable__content\"><pre>StandardScaler()</pre></div></div></div></div></div></div></div></div><div class=\"sk-parallel-item\"><div class=\"sk-item\"><div class=\"sk-label-container\"><div class=\"sk-label sk-toggleable\"><input class=\"sk-toggleable__control sk-hidden--visually\" id=\"sk-estimator-id-5\" type=\"checkbox\" ><label for=\"sk-estimator-id-5\" class=\"sk-toggleable__label sk-toggleable__label-arrow\">ord</label><div class=\"sk-toggleable__content\"><pre>[&#x27;Sleep Duration&#x27;]</pre></div></div></div><div class=\"sk-serial\"><div class=\"sk-item\"><div class=\"sk-serial\"><div class=\"sk-item\"><div class=\"sk-estimator sk-toggleable\"><input class=\"sk-toggleable__control sk-hidden--visually\" id=\"sk-estimator-id-6\" type=\"checkbox\" ><label for=\"sk-estimator-id-6\" class=\"sk-toggleable__label sk-toggleable__label-arrow\">OrdinalEncoder</label><div class=\"sk-toggleable__content\"><pre>OrdinalEncoder(categories=[[&#x27;Less than 5 hours&#x27;, &#x27;5-6 hours&#x27;, &#x27;7-8 hours&#x27;,\n",
       "                            &#x27;More than 8 hours&#x27;]])</pre></div></div></div><div class=\"sk-item\"><div class=\"sk-estimator sk-toggleable\"><input class=\"sk-toggleable__control sk-hidden--visually\" id=\"sk-estimator-id-7\" type=\"checkbox\" ><label for=\"sk-estimator-id-7\" class=\"sk-toggleable__label sk-toggleable__label-arrow\">StandardScaler</label><div class=\"sk-toggleable__content\"><pre>StandardScaler()</pre></div></div></div></div></div></div></div></div><div class=\"sk-parallel-item\"><div class=\"sk-item\"><div class=\"sk-label-container\"><div class=\"sk-label sk-toggleable\"><input class=\"sk-toggleable__control sk-hidden--visually\" id=\"sk-estimator-id-8\" type=\"checkbox\" ><label for=\"sk-estimator-id-8\" class=\"sk-toggleable__label sk-toggleable__label-arrow\">cat</label><div class=\"sk-toggleable__content\"><pre>[&#x27;Have you ever had suicidal thoughts ?&#x27;, &#x27;Family History of Mental Illness&#x27;]</pre></div></div></div><div class=\"sk-serial\"><div class=\"sk-item\"><div class=\"sk-serial\"><div class=\"sk-item\"><div class=\"sk-estimator sk-toggleable\"><input class=\"sk-toggleable__control sk-hidden--visually\" id=\"sk-estimator-id-9\" type=\"checkbox\" ><label for=\"sk-estimator-id-9\" class=\"sk-toggleable__label sk-toggleable__label-arrow\">OneHotEncoder</label><div class=\"sk-toggleable__content\"><pre>OneHotEncoder(drop=&#x27;first&#x27;)</pre></div></div></div></div></div></div></div></div></div></div><div class=\"sk-item\"><div class=\"sk-estimator sk-toggleable\"><input class=\"sk-toggleable__control sk-hidden--visually\" id=\"sk-estimator-id-10\" type=\"checkbox\" ><label for=\"sk-estimator-id-10\" class=\"sk-toggleable__label sk-toggleable__label-arrow\">SGDClassifier</label><div class=\"sk-toggleable__content\"><pre>SGDClassifier(eta0=0.01, learning_rate=&#x27;constant&#x27;, loss=&#x27;log_loss&#x27;, max_iter=1,\n",
       "              random_state=42, tol=0, warm_start=True)</pre></div></div></div></div></div></div></div>"
      ],
      "text/plain": [
       "Pipeline(steps=[('preprocessor',\n",
       "                 ColumnTransformer(transformers=[('num',\n",
       "                                                  Pipeline(steps=[('scaler',\n",
       "                                                                   StandardScaler())]),\n",
       "                                                  ['Academic Pressure',\n",
       "                                                   'Study Satisfaction',\n",
       "                                                   'Work/Study Hours',\n",
       "                                                   'Financial Stress']),\n",
       "                                                 ('ord',\n",
       "                                                  Pipeline(steps=[('ordinal',\n",
       "                                                                   OrdinalEncoder(categories=[['Less '\n",
       "                                                                                               'than '\n",
       "                                                                                               '5 '\n",
       "                                                                                               'hours',\n",
       "                                                                                               '5-6 '\n",
       "                                                                                               'hours',\n",
       "                                                                                               '7-8 '\n",
       "                                                                                               'hours',\n",
       "                                                                                               'More '\n",
       "                                                                                               'than '\n",
       "                                                                                               '8 '\n",
       "                                                                                               'hours']])),\n",
       "                                                                  ('scaler',\n",
       "                                                                   StandardScaler())]),\n",
       "                                                  ['Sleep Duration']),\n",
       "                                                 ('cat',\n",
       "                                                  Pipeline(steps=[('onehot',\n",
       "                                                                   OneHotEncoder(drop='first'))]),\n",
       "                                                  ['Have you ever had suicidal '\n",
       "                                                   'thoughts ?',\n",
       "                                                   'Family History of Mental '\n",
       "                                                   'Illness'])])),\n",
       "                ('classifier',\n",
       "                 SGDClassifier(eta0=0.01, learning_rate='constant',\n",
       "                               loss='log_loss', max_iter=1, random_state=42,\n",
       "                               tol=0, warm_start=True))])"
      ]
     },
     "execution_count": 5,
     "metadata": {},
     "output_type": "execute_result"
    }
   ],
   "source": [
    "# =============================================================================\n",
    "# 2. 전처리 파이프라인 구성\n",
    "# =============================================================================\n",
    "\n",
    "# (1) 수치형 피처: \"Academic Pressure\", \"Study Satisfaction\", \"Work/Study Hours\"\n",
    "numeric_features = ['Academic Pressure', 'Study Satisfaction', 'Work/Study Hours', \"Financial Stress\"]\n",
    "numeric_transformer = Pipeline(steps=[\n",
    "    ('scaler', StandardScaler())\n",
    "])\n",
    "\n",
    "# (2) 순서형 피처: \"Sleep Duration\"\n",
    "#    순서 정의 (예: 'Less than 5 hours', '5-6 hours', '6-7 hours', '7-8 hours', 'More than 8 hours')\n",
    "sleep_order = [['Less than 5 hours', '5-6 hours', '7-8 hours', 'More than 8 hours']]\n",
    "ordinal_transformer = Pipeline(steps=[\n",
    "    ('ordinal', OrdinalEncoder(categories=sleep_order)),\n",
    "    ('scaler', StandardScaler())\n",
    "])\n",
    "\n",
    "# (3) 범주형 피처: \"Have you ever had suicidal thoughts ?\", \"Financial Stress\", \"Family History of Mental Illness\"\n",
    "categorical_features = ['Have you ever had suicidal thoughts ?', 'Family History of Mental Illness']\n",
    "categorical_transformer = Pipeline(steps=[\n",
    "    ('onehot', OneHotEncoder(drop=\"first\")) #drop=\"first\"\n",
    "])\n",
    "\n",
    "# 컬럼별 전처리 합치기\n",
    "preprocessor = ColumnTransformer(\n",
    "    transformers=[\n",
    "        ('num', numeric_transformer, numeric_features),\n",
    "        ('ord', ordinal_transformer, ['Sleep Duration']),\n",
    "        ('cat', categorical_transformer, categorical_features),\n",
    "        # ('text', text_transformer, text_feature)\n",
    "    ]\n",
    ")\n",
    "\n",
    "# =============================================================================\n",
    "# 3. 전체 파이프라인 (전처리 + SGDClassifier)\n",
    "# =============================================================================\n",
    "model = Pipeline(steps=[\n",
    "    ('preprocessor', preprocessor),\n",
    "    ('classifier', SGDClassifier(\n",
    "        # class_weight='balanced',\n",
    "        loss='log_loss',   # 로지스틱 회귀 손실 함수\n",
    "        max_iter=1,\n",
    "        tol=0,\n",
    "        learning_rate=\"constant\", \n",
    "        eta0=0.01, #0.01에서 높임 학습률 낮춤\n",
    "        warm_start=True,\n",
    "        random_state=42\n",
    "        # penalty='l2',\n",
    "        # alpha=0.001,\n",
    "    ))\n",
    "])\n",
    "\n",
    "model"
   ]
  },
  {
   "cell_type": "code",
   "execution_count": 6,
   "id": "bca739db",
   "metadata": {
    "execution": {
     "iopub.execute_input": "2025-04-05T09:56:10.483583Z",
     "iopub.status.busy": "2025-04-05T09:56:10.483159Z",
     "iopub.status.idle": "2025-04-05T09:56:10.582343Z",
     "shell.execute_reply": "2025-04-05T09:56:10.581232Z"
    },
    "papermill": {
     "duration": 0.10601,
     "end_time": "2025-04-05T09:56:10.584179",
     "exception": false,
     "start_time": "2025-04-05T09:56:10.478169",
     "status": "completed"
    },
    "tags": []
   },
   "outputs": [
    {
     "data": {
      "text/html": [
       "<style>#sk-container-id-2 {color: black;background-color: white;}#sk-container-id-2 pre{padding: 0;}#sk-container-id-2 div.sk-toggleable {background-color: white;}#sk-container-id-2 label.sk-toggleable__label {cursor: pointer;display: block;width: 100%;margin-bottom: 0;padding: 0.3em;box-sizing: border-box;text-align: center;}#sk-container-id-2 label.sk-toggleable__label-arrow:before {content: \"▸\";float: left;margin-right: 0.25em;color: #696969;}#sk-container-id-2 label.sk-toggleable__label-arrow:hover:before {color: black;}#sk-container-id-2 div.sk-estimator:hover label.sk-toggleable__label-arrow:before {color: black;}#sk-container-id-2 div.sk-toggleable__content {max-height: 0;max-width: 0;overflow: hidden;text-align: left;background-color: #f0f8ff;}#sk-container-id-2 div.sk-toggleable__content pre {margin: 0.2em;color: black;border-radius: 0.25em;background-color: #f0f8ff;}#sk-container-id-2 input.sk-toggleable__control:checked~div.sk-toggleable__content {max-height: 200px;max-width: 100%;overflow: auto;}#sk-container-id-2 input.sk-toggleable__control:checked~label.sk-toggleable__label-arrow:before {content: \"▾\";}#sk-container-id-2 div.sk-estimator input.sk-toggleable__control:checked~label.sk-toggleable__label {background-color: #d4ebff;}#sk-container-id-2 div.sk-label input.sk-toggleable__control:checked~label.sk-toggleable__label {background-color: #d4ebff;}#sk-container-id-2 input.sk-hidden--visually {border: 0;clip: rect(1px 1px 1px 1px);clip: rect(1px, 1px, 1px, 1px);height: 1px;margin: -1px;overflow: hidden;padding: 0;position: absolute;width: 1px;}#sk-container-id-2 div.sk-estimator {font-family: monospace;background-color: #f0f8ff;border: 1px dotted black;border-radius: 0.25em;box-sizing: border-box;margin-bottom: 0.5em;}#sk-container-id-2 div.sk-estimator:hover {background-color: #d4ebff;}#sk-container-id-2 div.sk-parallel-item::after {content: \"\";width: 100%;border-bottom: 1px solid gray;flex-grow: 1;}#sk-container-id-2 div.sk-label:hover label.sk-toggleable__label {background-color: #d4ebff;}#sk-container-id-2 div.sk-serial::before {content: \"\";position: absolute;border-left: 1px solid gray;box-sizing: border-box;top: 0;bottom: 0;left: 50%;z-index: 0;}#sk-container-id-2 div.sk-serial {display: flex;flex-direction: column;align-items: center;background-color: white;padding-right: 0.2em;padding-left: 0.2em;position: relative;}#sk-container-id-2 div.sk-item {position: relative;z-index: 1;}#sk-container-id-2 div.sk-parallel {display: flex;align-items: stretch;justify-content: center;background-color: white;position: relative;}#sk-container-id-2 div.sk-item::before, #sk-container-id-2 div.sk-parallel-item::before {content: \"\";position: absolute;border-left: 1px solid gray;box-sizing: border-box;top: 0;bottom: 0;left: 50%;z-index: -1;}#sk-container-id-2 div.sk-parallel-item {display: flex;flex-direction: column;z-index: 1;position: relative;background-color: white;}#sk-container-id-2 div.sk-parallel-item:first-child::after {align-self: flex-end;width: 50%;}#sk-container-id-2 div.sk-parallel-item:last-child::after {align-self: flex-start;width: 50%;}#sk-container-id-2 div.sk-parallel-item:only-child::after {width: 0;}#sk-container-id-2 div.sk-dashed-wrapped {border: 1px dashed gray;margin: 0 0.4em 0.5em 0.4em;box-sizing: border-box;padding-bottom: 0.4em;background-color: white;}#sk-container-id-2 div.sk-label label {font-family: monospace;font-weight: bold;display: inline-block;line-height: 1.2em;}#sk-container-id-2 div.sk-label-container {text-align: center;}#sk-container-id-2 div.sk-container {/* jupyter's `normalize.less` sets `[hidden] { display: none; }` but bootstrap.min.css set `[hidden] { display: none !important; }` so we also need the `!important` here to be able to override the default hidden behavior on the sphinx rendered scikit-learn.org. See: https://github.com/scikit-learn/scikit-learn/issues/21755 */display: inline-block !important;position: relative;}#sk-container-id-2 div.sk-text-repr-fallback {display: none;}</style><div id=\"sk-container-id-2\" class=\"sk-top-container\"><div class=\"sk-text-repr-fallback\"><pre>SGDClassifier(class_weight={0: 1.2, 1: 1}, eta0=0.01,\n",
       "              learning_rate=&#x27;invscaling&#x27;, loss=&#x27;log_loss&#x27;, max_iter=1,\n",
       "              random_state=42, tol=0, warm_start=True)</pre><b>In a Jupyter environment, please rerun this cell to show the HTML representation or trust the notebook. <br />On GitHub, the HTML representation is unable to render, please try loading this page with nbviewer.org.</b></div><div class=\"sk-container\" hidden><div class=\"sk-item\"><div class=\"sk-estimator sk-toggleable\"><input class=\"sk-toggleable__control sk-hidden--visually\" id=\"sk-estimator-id-11\" type=\"checkbox\" checked><label for=\"sk-estimator-id-11\" class=\"sk-toggleable__label sk-toggleable__label-arrow\">SGDClassifier</label><div class=\"sk-toggleable__content\"><pre>SGDClassifier(class_weight={0: 1.2, 1: 1}, eta0=0.01,\n",
       "              learning_rate=&#x27;invscaling&#x27;, loss=&#x27;log_loss&#x27;, max_iter=1,\n",
       "              random_state=42, tol=0, warm_start=True)</pre></div></div></div></div></div>"
      ],
      "text/plain": [
       "SGDClassifier(class_weight={0: 1.2, 1: 1}, eta0=0.01,\n",
       "              learning_rate='invscaling', loss='log_loss', max_iter=1,\n",
       "              random_state=42, tol=0, warm_start=True)"
      ]
     },
     "execution_count": 6,
     "metadata": {},
     "output_type": "execute_result"
    }
   ],
   "source": [
    "# 전처리 파이프라인만 따로 적용하고 결과 저장\n",
    "X_train_preprocessed = model['preprocessor'].fit_transform(X_train)\n",
    "X_test_preprocessed = model['preprocessor'].transform(X_test)\n",
    "\n",
    "# SGDClassifier만 따로 학습 (파이프라인 밖에서)\n",
    "sgd_classifier = SGDClassifier(\n",
    "    class_weight={0:1.2, 1:1},  # 음성 클래스 가중치 상승,\n",
    "    loss='log_loss',\n",
    "    max_iter=1,\n",
    "    tol=0,\n",
    "    learning_rate=\"invscaling\",\n",
    "    eta0=0.01,\n",
    "    warm_start=True,\n",
    "    random_state=42\n",
    ")\n",
    "sgd_classifier"
   ]
  },
  {
   "cell_type": "code",
   "execution_count": 7,
   "id": "b9bdac5f",
   "metadata": {
    "collapsed": true,
    "execution": {
     "iopub.execute_input": "2025-04-05T09:56:10.594015Z",
     "iopub.status.busy": "2025-04-05T09:56:10.593619Z",
     "iopub.status.idle": "2025-04-05T09:56:10.722932Z",
     "shell.execute_reply": "2025-04-05T09:56:10.721668Z"
    },
    "jupyter": {
     "outputs_hidden": true,
     "source_hidden": true
    },
    "papermill": {
     "duration": 0.136487,
     "end_time": "2025-04-05T09:56:10.725079",
     "exception": false,
     "start_time": "2025-04-05T09:56:10.588592",
     "status": "completed"
    },
    "tags": []
   },
   "outputs": [
    {
     "name": "stdout",
     "output_type": "stream",
     "text": [
      "   num__Academic Pressure  num__Study Satisfaction  num__Work/Study Hours  \\\n",
      "0               -1.554359                -1.422359              -1.118941   \n",
      "1               -0.106433                 0.045135               0.497349   \n",
      "2                0.617530                -0.688612               0.766730   \n",
      "3               -0.106433                 1.512630               0.766730   \n",
      "4               -0.106433                 0.045135               1.305493   \n",
      "\n",
      "   num__Financial Stress  ord__Sleep Duration  \\\n",
      "0              -0.095830             -1.23941   \n",
      "1              -0.792955             -1.23941   \n",
      "2              -0.095830              1.42531   \n",
      "3               1.298421             -0.35117   \n",
      "4               1.298421             -1.23941   \n",
      "\n",
      "   cat__Have you ever had suicidal thoughts ?_Yes  \\\n",
      "0                                             0.0   \n",
      "1                                             1.0   \n",
      "2                                             1.0   \n",
      "3                                             1.0   \n",
      "4                                             1.0   \n",
      "\n",
      "   cat__Family History of Mental Illness_Yes  \n",
      "0                                        0.0  \n",
      "1                                        1.0  \n",
      "2                                        0.0  \n",
      "3                                        1.0  \n",
      "4                                        0.0  \n",
      "                                          feature       VIF\n",
      "5  cat__Have you ever had suicidal thoughts ?_Yes  1.551304\n",
      "6       cat__Family History of Mental Illness_Yes  1.491275\n",
      "0                          num__Academic Pressure  1.066048\n",
      "3                           num__Financial Stress  1.044696\n",
      "2                           num__Work/Study Hours  1.019188\n",
      "1                         num__Study Satisfaction  1.017432\n",
      "4                             ord__Sleep Duration  1.003474\n"
     ]
    }
   ],
   "source": [
    "# ============== 다중 공선성 확인 =========\n",
    "# 컬럼명 추출 (전처리 파이프라인에서)\n",
    "feature_names = model.named_steps['preprocessor'].get_feature_names_out()\n",
    "\n",
    "# NumPy 배열 → DataFrame 변환\n",
    "df_processed = pd.DataFrame(\n",
    "    X_train_preprocessed,\n",
    "    columns=feature_names\n",
    ")\n",
    "print(df_processed.head())\n",
    "\n",
    "# VIF 계산 함수\n",
    "def calculate_vif(df_processed):\n",
    "    vif_data = pd.DataFrame()\n",
    "    vif_data[\"feature\"] = df_processed.columns\n",
    "    vif_data[\"VIF\"] = [variance_inflation_factor(df_processed.values, i) for i in range(df_processed.shape[1])]\n",
    "    return vif_data.sort_values(\"VIF\", ascending=False)\n",
    "\n",
    "vif_results = calculate_vif(df_processed)\n",
    "print(vif_results)"
   ]
  },
  {
   "cell_type": "code",
   "execution_count": 8,
   "id": "67275768",
   "metadata": {
    "execution": {
     "iopub.execute_input": "2025-04-05T09:56:10.736126Z",
     "iopub.status.busy": "2025-04-05T09:56:10.735747Z",
     "iopub.status.idle": "2025-04-05T09:56:11.901997Z",
     "shell.execute_reply": "2025-04-05T09:56:11.900720Z"
    },
    "papermill": {
     "duration": 1.174465,
     "end_time": "2025-04-05T09:56:11.904130",
     "exception": false,
     "start_time": "2025-04-05T09:56:10.729665",
     "status": "completed"
    },
    "tags": []
   },
   "outputs": [
    {
     "name": "stdout",
     "output_type": "stream",
     "text": [
      "Epoch 1/100, Log Loss: 0.4927\n",
      "Epoch 2/100, Log Loss: 0.4683\n",
      "Epoch 3/100, Log Loss: 0.4559\n",
      "Epoch 4/100, Log Loss: 0.4480\n",
      "Epoch 5/100, Log Loss: 0.4423\n",
      "Epoch 6/100, Log Loss: 0.4380\n",
      "Epoch 7/100, Log Loss: 0.4346\n",
      "Epoch 8/100, Log Loss: 0.4318\n",
      "Epoch 9/100, Log Loss: 0.4294\n",
      "Epoch 10/100, Log Loss: 0.4273\n",
      "Epoch 11/100, Log Loss: 0.4255\n",
      "Epoch 12/100, Log Loss: 0.4239\n",
      "Epoch 13/100, Log Loss: 0.4224\n",
      "Epoch 14/100, Log Loss: 0.4211\n",
      "Epoch 15/100, Log Loss: 0.4199\n",
      "Epoch 16/100, Log Loss: 0.4189\n",
      "Epoch 17/100, Log Loss: 0.4178\n",
      "Epoch 18/100, Log Loss: 0.4169\n",
      "Epoch 19/100, Log Loss: 0.4160\n",
      "Epoch 20/100, Log Loss: 0.4152\n",
      "Epoch 21/100, Log Loss: 0.4145\n",
      "Epoch 22/100, Log Loss: 0.4137\n",
      "Epoch 23/100, Log Loss: 0.4131\n",
      "Epoch 24/100, Log Loss: 0.4124\n",
      "Epoch 25/100, Log Loss: 0.4118\n",
      "Epoch 26/100, Log Loss: 0.4112\n",
      "Epoch 27/100, Log Loss: 0.4106\n",
      "Epoch 28/100, Log Loss: 0.4101\n",
      "Epoch 29/100, Log Loss: 0.4096\n",
      "Epoch 30/100, Log Loss: 0.4091\n",
      "Epoch 31/100, Log Loss: 0.4087\n",
      "Epoch 32/100, Log Loss: 0.4082\n",
      "Epoch 33/100, Log Loss: 0.4078\n",
      "Epoch 34/100, Log Loss: 0.4073\n",
      "Epoch 35/100, Log Loss: 0.4069\n",
      "Epoch 36/100, Log Loss: 0.4066\n",
      "Epoch 37/100, Log Loss: 0.4062\n",
      "Epoch 38/100, Log Loss: 0.4058\n",
      "Epoch 39/100, Log Loss: 0.4055\n",
      "Epoch 40/100, Log Loss: 0.4051\n",
      "Epoch 41/100, Log Loss: 0.4048\n",
      "Epoch 42/100, Log Loss: 0.4045\n",
      "Epoch 43/100, Log Loss: 0.4041\n",
      "Epoch 44/100, Log Loss: 0.4038\n",
      "Epoch 45/100, Log Loss: 0.4035\n",
      "Epoch 46/100, Log Loss: 0.4033\n",
      "Epoch 47/100, Log Loss: 0.4030\n",
      "Epoch 48/100, Log Loss: 0.4027\n",
      "Epoch 49/100, Log Loss: 0.4024\n",
      "Epoch 50/100, Log Loss: 0.4022\n",
      "Epoch 51/100, Log Loss: 0.4019\n",
      "Epoch 52/100, Log Loss: 0.4017\n",
      "Epoch 53/100, Log Loss: 0.4014\n",
      "Epoch 54/100, Log Loss: 0.4012\n",
      "Epoch 55/100, Log Loss: 0.4010\n",
      "Epoch 56/100, Log Loss: 0.4007\n",
      "Epoch 57/100, Log Loss: 0.4005\n",
      "Epoch 58/100, Log Loss: 0.4003\n",
      "Epoch 59/100, Log Loss: 0.4001\n",
      "Epoch 60/100, Log Loss: 0.3999\n",
      "Epoch 61/100, Log Loss: 0.3997\n",
      "Epoch 62/100, Log Loss: 0.3995\n",
      "Epoch 63/100, Log Loss: 0.3993\n",
      "Epoch 64/100, Log Loss: 0.3991\n",
      "Epoch 65/100, Log Loss: 0.3989\n",
      "Epoch 66/100, Log Loss: 0.3987\n",
      "Epoch 67/100, Log Loss: 0.3985\n",
      "Epoch 68/100, Log Loss: 0.3984\n",
      "Epoch 69/100, Log Loss: 0.3982\n",
      "Epoch 70/100, Log Loss: 0.3980\n",
      "Epoch 71/100, Log Loss: 0.3978\n",
      "Epoch 72/100, Log Loss: 0.3977\n",
      "Epoch 73/100, Log Loss: 0.3975\n",
      "Epoch 74/100, Log Loss: 0.3974\n",
      "Epoch 75/100, Log Loss: 0.3972\n",
      "Epoch 76/100, Log Loss: 0.3971\n",
      "Epoch 77/100, Log Loss: 0.3969\n",
      "Epoch 78/100, Log Loss: 0.3968\n",
      "Epoch 79/100, Log Loss: 0.3966\n",
      "Epoch 80/100, Log Loss: 0.3965\n",
      "Epoch 81/100, Log Loss: 0.3963\n",
      "Epoch 82/100, Log Loss: 0.3962\n",
      "Epoch 83/100, Log Loss: 0.3960\n",
      "Epoch 84/100, Log Loss: 0.3959\n",
      "Epoch 85/100, Log Loss: 0.3958\n",
      "Epoch 86/100, Log Loss: 0.3956\n",
      "Epoch 87/100, Log Loss: 0.3955\n",
      "Epoch 88/100, Log Loss: 0.3954\n",
      "Epoch 89/100, Log Loss: 0.3953\n",
      "Epoch 90/100, Log Loss: 0.3951\n",
      "Epoch 91/100, Log Loss: 0.3950\n",
      "Epoch 92/100, Log Loss: 0.3949\n",
      "Epoch 93/100, Log Loss: 0.3948\n",
      "Epoch 94/100, Log Loss: 0.3947\n",
      "Epoch 95/100, Log Loss: 0.3945\n",
      "Epoch 96/100, Log Loss: 0.3944\n",
      "Epoch 97/100, Log Loss: 0.3943\n",
      "Epoch 98/100, Log Loss: 0.3942\n",
      "Epoch 99/100, Log Loss: 0.3941\n",
      "Epoch 100/100, Log Loss: 0.3940\n"
     ]
    }
   ],
   "source": [
    "# 에폭별 학습\n",
    "losses = []\n",
    "num_epochs = 100\n",
    "for epoch in range(num_epochs):\n",
    "    sgd_classifier.partial_fit(X_train_preprocessed, y_train, classes=np.unique(y_train))\n",
    "    y_proba = sgd_classifier.predict_proba(X_train_preprocessed)[:, 1]\n",
    "    \n",
    "     # log loss 계산 시 0 또는 1에 가까운 값을 방지하기 위한 클리핑\n",
    "    epsilon = 1e-15\n",
    "    y_proba = np.clip(y_proba, epsilon, 1 - epsilon)\n",
    "    epoch_log_loss = -np.mean(y_train * np.log(y_proba) + (1 - y_train) * np.log(1 - y_proba))\n",
    "    losses.append(epoch_log_loss)\n",
    "    print(f\"Epoch {epoch + 1}/{num_epochs}, Log Loss: {epoch_log_loss:.4f}\")"
   ]
  },
  {
   "cell_type": "code",
   "execution_count": 9,
   "id": "025a8af9",
   "metadata": {
    "execution": {
     "iopub.execute_input": "2025-04-05T09:56:11.915896Z",
     "iopub.status.busy": "2025-04-05T09:56:11.915507Z",
     "iopub.status.idle": "2025-04-05T09:56:12.189107Z",
     "shell.execute_reply": "2025-04-05T09:56:12.187856Z"
    },
    "papermill": {
     "duration": 0.281606,
     "end_time": "2025-04-05T09:56:12.191138",
     "exception": false,
     "start_time": "2025-04-05T09:56:11.909532",
     "status": "completed"
    },
    "tags": []
   },
   "outputs": [
    {
     "name": "stdout",
     "output_type": "stream",
     "text": [
      "[Weights] [[ 1.04982461 -0.29406455  0.40814079  0.76626878 -0.1906751   1.46354707\n",
      "   0.01817598]]\n",
      "[Bias] [-0.48110599]\n"
     ]
    },
    {
     "data": {
      "image/png": "[encoded data removed]",
      "text/plain": [
       "<Figure size 800x500 with 1 Axes>"
      ]
     },
     "metadata": {},
     "output_type": "display_data"
    }
   ],
   "source": [
    "# weight, bias 출력\n",
    "weights = sgd_classifier.coef_\n",
    "bias = sgd_classifier.intercept_\n",
    "print(\"[Weights]\", weights)\n",
    "print(\"[Bias]\", bias)\n",
    "\n",
    "# Loss 시각화\n",
    "plt.figure(figsize=(8, 5))\n",
    "plt.plot(range(1, num_epochs+1), losses, label=\"Train Loss\")\n",
    "plt.xlabel(\"Epoch\")\n",
    "plt.ylabel(\"Log loss\")\n",
    "plt.title(\"Training Loss over Epochs\")\n",
    "plt.grid(True)\n",
    "plt.show()"
   ]
  },
  {
   "cell_type": "code",
   "execution_count": 10,
   "id": "ecabbe54",
   "metadata": {
    "execution": {
     "iopub.execute_input": "2025-04-05T09:56:12.205470Z",
     "iopub.status.busy": "2025-04-05T09:56:12.205080Z",
     "iopub.status.idle": "2025-04-05T09:56:12.668595Z",
     "shell.execute_reply": "2025-04-05T09:56:12.667442Z"
    },
    "papermill": {
     "duration": 0.473465,
     "end_time": "2025-04-05T09:56:12.670572",
     "exception": false,
     "start_time": "2025-04-05T09:56:12.197107",
     "status": "completed"
    },
    "tags": []
   },
   "outputs": [
    {
     "name": "stdout",
     "output_type": "stream",
     "text": [
      "Accuracy      : 0.8303443328550932\n",
      "Precision     : 0.8464296384822229\n",
      "Recall        : 0.867687595712098\n",
      "Specificity   : 0.7775854608394634\n",
      "F1 Score      : 0.8569267997580158\n"
     ]
    },
    {
     "data": {
      "image/png": "[encoded data removed]",
      "text/plain": [
       "<Figure size 800x500 with 1 Axes>"
      ]
     },
     "metadata": {},
     "output_type": "display_data"
    },
    {
     "data": {
      "image/png": "[encoded data removed]",
      "text/plain": [
       "<Figure size 800x500 with 1 Axes>"
      ]
     },
     "metadata": {},
     "output_type": "display_data"
    }
   ],
   "source": [
    "# 테스트 데이터에 대한 예측 및 확률 계산\n",
    "y_test_pred = sgd_classifier.predict(X_test_preprocessed)\n",
    "y_test_proba = sgd_classifier.predict_proba(X_test_preprocessed)[:, 1]\n",
    "\n",
    "# 평가 지표 계산\n",
    "accuracy = accuracy_score(y_test, y_test_pred)\n",
    "precision = precision_score(y_test, y_test_pred)\n",
    "recall = recall_score(y_test, y_test_pred)\n",
    "f1 = f1_score(y_test, y_test_pred)\n",
    "\n",
    "# Confusion Matrix를 통해 Specificity 계산: Specificity = TN / (TN + FP)\n",
    "tn, fp, fn, tp = confusion_matrix(y_test, y_test_pred).ravel()\n",
    "specificity = tn / (tn + fp)\n",
    "\n",
    "print(\"Accuracy      :\", accuracy)\n",
    "print(\"Precision     :\", precision)\n",
    "print(\"Recall        :\", recall)\n",
    "print(\"Specificity   :\", specificity)\n",
    "print(\"F1 Score      :\", f1)\n",
    "\n",
    "# ROC 커브 및 AUC 계산 및 시각화\n",
    "fpr, tpr, _ = roc_curve(y_test, y_test_proba)\n",
    "roc_auc = auc(fpr, tpr)\n",
    "\n",
    "plt.figure(figsize=(8, 5))\n",
    "plt.plot(fpr, tpr, label=f'ROC curve (AUC = {roc_auc:.2f})')\n",
    "plt.plot([0, 1], [0, 1], 'k--', label='Chance')\n",
    "plt.xlabel('False Positive Rate')\n",
    "plt.ylabel('True Positive Rate')\n",
    "plt.title('ROC Curve')\n",
    "plt.legend(loc='lower right')\n",
    "plt.grid(True)\n",
    "plt.show()\n",
    "\n",
    "# Precision-Recall 커브 및 AUC 계산 및 시각화\n",
    "precision_vals, recall_vals, _ = precision_recall_curve(y_test, y_test_proba)\n",
    "pr_auc = auc(recall_vals, precision_vals)\n",
    "\n",
    "plt.figure(figsize=(8, 5))\n",
    "plt.plot(recall_vals, precision_vals, label=f'Precision-Recall curve (AUC = {pr_auc:.2f})')\n",
    "plt.xlabel('Recall')\n",
    "plt.ylabel('Precision')\n",
    "plt.title('Precision-Recall Curve')\n",
    "plt.legend(loc='lower left')\n",
    "plt.grid(True)\n",
    "plt.show()"
   ]
  }
 ],
 "metadata": {
  "kaggle": {
   "accelerator": "none",
   "dataSources": [
    {
     "datasetId": 6857137,
     "sourceId": 11013442,
     "sourceType": "datasetVersion"
    }
   ],
   "dockerImageVersionId": 30918,
   "isGpuEnabled": false,
   "isInternetEnabled": false,
   "language": "python",
   "sourceType": "notebook"
  },
  "kernelspec": {
   "display_name": "Python 3",
   "language": "python",
   "name": "python3"
  },
  "language_info": {
   "codemirror_mode": {
    "name": "ipython",
    "version": 3
   },
   "file_extension": ".py",
   "mimetype": "text/x-python",
   "name": "python",
   "nbconvert_exporter": "python",
   "pygments_lexer": "ipython3",
   "version": "3.10.12"
  },
  "papermill": {
   "default_parameters": {},
   "duration": 9.398393,
   "end_time": "2025-04-05T09:56:13.501455",
   "environment_variables": {},
   "exception": null,
   "input_path": "__notebook__.ipynb",
   "output_path": "__notebook__.ipynb",
   "parameters": {},
   "start_time": "2025-04-05T09:56:04.103062",
   "version": "2.6.0"
  }
 },
 "nbformat": 4,
 "nbformat_minor": 5
}
